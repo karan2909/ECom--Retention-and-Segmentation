{
 "cells": [
  {
   "cell_type": "markdown",
   "metadata": {},
   "source": [
    "## Need to understand customers\n",
    "\n",
    "1) Customer Segmentation\n",
    "\n",
    "2) CRM metrics - Cohort Analysis\n",
    "\n",
    "3) Predict Sales daily \n",
    "\n",
    "4) Recommendation"
   ]
  },
  {
   "cell_type": "code",
   "execution_count": 129,
   "metadata": {},
   "outputs": [],
   "source": [
    "## https://www.kaggle.com/datasets/carrie1/ecommerce-data/code?datasetId=1985&sortBy=voteCount"
   ]
  },
  {
   "cell_type": "code",
   "execution_count": 4,
   "metadata": {},
   "outputs": [],
   "source": [
    "#pip install --upgrade seaborn"
   ]
  },
  {
   "cell_type": "code",
   "execution_count": 103,
   "metadata": {},
   "outputs": [],
   "source": [
    "import pandas as pd\n",
    "import numpy as np\n",
    "import matplotlib.pyplot as plt\n",
    "import seaborn as sns\n",
    "from operator import attrgetter\n",
    "import matplotlib.colors as mcolors\n",
    "from sklearn.preprocessing import StandardScaler\n",
    "from sklearn.cluster import KMeans\n"
   ]
  },
  {
   "cell_type": "code",
   "execution_count": 6,
   "metadata": {},
   "outputs": [],
   "source": [
    "df = pd.read_csv('data.csv', encoding='latin1')"
   ]
  },
  {
   "cell_type": "code",
   "execution_count": 7,
   "metadata": {},
   "outputs": [
    {
     "data": {
      "text/html": [
       "<div>\n",
       "<style scoped>\n",
       "    .dataframe tbody tr th:only-of-type {\n",
       "        vertical-align: middle;\n",
       "    }\n",
       "\n",
       "    .dataframe tbody tr th {\n",
       "        vertical-align: top;\n",
       "    }\n",
       "\n",
       "    .dataframe thead th {\n",
       "        text-align: right;\n",
       "    }\n",
       "</style>\n",
       "<table border=\"1\" class=\"dataframe\">\n",
       "  <thead>\n",
       "    <tr style=\"text-align: right;\">\n",
       "      <th></th>\n",
       "      <th>InvoiceNo</th>\n",
       "      <th>StockCode</th>\n",
       "      <th>Description</th>\n",
       "      <th>Quantity</th>\n",
       "      <th>InvoiceDate</th>\n",
       "      <th>UnitPrice</th>\n",
       "      <th>CustomerID</th>\n",
       "      <th>Country</th>\n",
       "    </tr>\n",
       "  </thead>\n",
       "  <tbody>\n",
       "    <tr>\n",
       "      <th>0</th>\n",
       "      <td>536365</td>\n",
       "      <td>85123A</td>\n",
       "      <td>WHITE HANGING HEART T-LIGHT HOLDER</td>\n",
       "      <td>6</td>\n",
       "      <td>12/1/2010 8:26</td>\n",
       "      <td>2.55</td>\n",
       "      <td>17850.0</td>\n",
       "      <td>United Kingdom</td>\n",
       "    </tr>\n",
       "    <tr>\n",
       "      <th>1</th>\n",
       "      <td>536365</td>\n",
       "      <td>71053</td>\n",
       "      <td>WHITE METAL LANTERN</td>\n",
       "      <td>6</td>\n",
       "      <td>12/1/2010 8:26</td>\n",
       "      <td>3.39</td>\n",
       "      <td>17850.0</td>\n",
       "      <td>United Kingdom</td>\n",
       "    </tr>\n",
       "    <tr>\n",
       "      <th>2</th>\n",
       "      <td>536365</td>\n",
       "      <td>84406B</td>\n",
       "      <td>CREAM CUPID HEARTS COAT HANGER</td>\n",
       "      <td>8</td>\n",
       "      <td>12/1/2010 8:26</td>\n",
       "      <td>2.75</td>\n",
       "      <td>17850.0</td>\n",
       "      <td>United Kingdom</td>\n",
       "    </tr>\n",
       "  </tbody>\n",
       "</table>\n",
       "</div>"
      ],
      "text/plain": [
       "  InvoiceNo StockCode                         Description  Quantity  \\\n",
       "0    536365    85123A  WHITE HANGING HEART T-LIGHT HOLDER         6   \n",
       "1    536365     71053                 WHITE METAL LANTERN         6   \n",
       "2    536365    84406B      CREAM CUPID HEARTS COAT HANGER         8   \n",
       "\n",
       "      InvoiceDate  UnitPrice  CustomerID         Country  \n",
       "0  12/1/2010 8:26       2.55     17850.0  United Kingdom  \n",
       "1  12/1/2010 8:26       3.39     17850.0  United Kingdom  \n",
       "2  12/1/2010 8:26       2.75     17850.0  United Kingdom  "
      ]
     },
     "execution_count": 7,
     "metadata": {},
     "output_type": "execute_result"
    }
   ],
   "source": [
    "df.head(3)"
   ]
  },
  {
   "cell_type": "code",
   "execution_count": 8,
   "metadata": {},
   "outputs": [
    {
     "data": {
      "text/plain": [
       "(541909, 8)"
      ]
     },
     "execution_count": 8,
     "metadata": {},
     "output_type": "execute_result"
    }
   ],
   "source": [
    "df.shape"
   ]
  },
  {
   "cell_type": "code",
   "execution_count": 9,
   "metadata": {},
   "outputs": [
    {
     "name": "stdout",
     "output_type": "stream",
     "text": [
      "<class 'pandas.core.frame.DataFrame'>\n",
      "RangeIndex: 541909 entries, 0 to 541908\n",
      "Data columns (total 8 columns):\n",
      " #   Column       Non-Null Count   Dtype  \n",
      "---  ------       --------------   -----  \n",
      " 0   InvoiceNo    541909 non-null  object \n",
      " 1   StockCode    541909 non-null  object \n",
      " 2   Description  540455 non-null  object \n",
      " 3   Quantity     541909 non-null  int64  \n",
      " 4   InvoiceDate  541909 non-null  object \n",
      " 5   UnitPrice    541909 non-null  float64\n",
      " 6   CustomerID   406829 non-null  float64\n",
      " 7   Country      541909 non-null  object \n",
      "dtypes: float64(2), int64(1), object(5)\n",
      "memory usage: 33.1+ MB\n"
     ]
    }
   ],
   "source": [
    "df.info()"
   ]
  },
  {
   "cell_type": "code",
   "execution_count": 10,
   "metadata": {},
   "outputs": [
    {
     "data": {
      "text/html": [
       "<div>\n",
       "<style scoped>\n",
       "    .dataframe tbody tr th:only-of-type {\n",
       "        vertical-align: middle;\n",
       "    }\n",
       "\n",
       "    .dataframe tbody tr th {\n",
       "        vertical-align: top;\n",
       "    }\n",
       "\n",
       "    .dataframe thead th {\n",
       "        text-align: right;\n",
       "    }\n",
       "</style>\n",
       "<table border=\"1\" class=\"dataframe\">\n",
       "  <thead>\n",
       "    <tr style=\"text-align: right;\">\n",
       "      <th></th>\n",
       "      <th>Quantity</th>\n",
       "      <th>UnitPrice</th>\n",
       "      <th>CustomerID</th>\n",
       "    </tr>\n",
       "  </thead>\n",
       "  <tbody>\n",
       "    <tr>\n",
       "      <th>count</th>\n",
       "      <td>541909.000000</td>\n",
       "      <td>541909.000000</td>\n",
       "      <td>406829.000000</td>\n",
       "    </tr>\n",
       "    <tr>\n",
       "      <th>mean</th>\n",
       "      <td>9.552250</td>\n",
       "      <td>4.611114</td>\n",
       "      <td>15287.690570</td>\n",
       "    </tr>\n",
       "    <tr>\n",
       "      <th>std</th>\n",
       "      <td>218.081158</td>\n",
       "      <td>96.759853</td>\n",
       "      <td>1713.600303</td>\n",
       "    </tr>\n",
       "    <tr>\n",
       "      <th>min</th>\n",
       "      <td>-80995.000000</td>\n",
       "      <td>-11062.060000</td>\n",
       "      <td>12346.000000</td>\n",
       "    </tr>\n",
       "    <tr>\n",
       "      <th>25%</th>\n",
       "      <td>1.000000</td>\n",
       "      <td>1.250000</td>\n",
       "      <td>13953.000000</td>\n",
       "    </tr>\n",
       "    <tr>\n",
       "      <th>50%</th>\n",
       "      <td>3.000000</td>\n",
       "      <td>2.080000</td>\n",
       "      <td>15152.000000</td>\n",
       "    </tr>\n",
       "    <tr>\n",
       "      <th>75%</th>\n",
       "      <td>10.000000</td>\n",
       "      <td>4.130000</td>\n",
       "      <td>16791.000000</td>\n",
       "    </tr>\n",
       "    <tr>\n",
       "      <th>max</th>\n",
       "      <td>80995.000000</td>\n",
       "      <td>38970.000000</td>\n",
       "      <td>18287.000000</td>\n",
       "    </tr>\n",
       "  </tbody>\n",
       "</table>\n",
       "</div>"
      ],
      "text/plain": [
       "            Quantity      UnitPrice     CustomerID\n",
       "count  541909.000000  541909.000000  406829.000000\n",
       "mean        9.552250       4.611114   15287.690570\n",
       "std       218.081158      96.759853    1713.600303\n",
       "min    -80995.000000  -11062.060000   12346.000000\n",
       "25%         1.000000       1.250000   13953.000000\n",
       "50%         3.000000       2.080000   15152.000000\n",
       "75%        10.000000       4.130000   16791.000000\n",
       "max     80995.000000   38970.000000   18287.000000"
      ]
     },
     "execution_count": 10,
     "metadata": {},
     "output_type": "execute_result"
    }
   ],
   "source": [
    "df.describe()"
   ]
  },
  {
   "cell_type": "code",
   "execution_count": 11,
   "metadata": {},
   "outputs": [
    {
     "data": {
      "text/html": [
       "<div>\n",
       "<style scoped>\n",
       "    .dataframe tbody tr th:only-of-type {\n",
       "        vertical-align: middle;\n",
       "    }\n",
       "\n",
       "    .dataframe tbody tr th {\n",
       "        vertical-align: top;\n",
       "    }\n",
       "\n",
       "    .dataframe thead th {\n",
       "        text-align: right;\n",
       "    }\n",
       "</style>\n",
       "<table border=\"1\" class=\"dataframe\">\n",
       "  <thead>\n",
       "    <tr style=\"text-align: right;\">\n",
       "      <th></th>\n",
       "      <th>InvoiceNo</th>\n",
       "      <th>StockCode</th>\n",
       "      <th>Description</th>\n",
       "      <th>Quantity</th>\n",
       "      <th>InvoiceDate</th>\n",
       "      <th>UnitPrice</th>\n",
       "      <th>CustomerID</th>\n",
       "      <th>Country</th>\n",
       "    </tr>\n",
       "  </thead>\n",
       "  <tbody>\n",
       "    <tr>\n",
       "      <th>0</th>\n",
       "      <td>536365</td>\n",
       "      <td>85123A</td>\n",
       "      <td>WHITE HANGING HEART T-LIGHT HOLDER</td>\n",
       "      <td>6</td>\n",
       "      <td>12/1/2010 8:26</td>\n",
       "      <td>2.55</td>\n",
       "      <td>17850.0</td>\n",
       "      <td>United Kingdom</td>\n",
       "    </tr>\n",
       "    <tr>\n",
       "      <th>1</th>\n",
       "      <td>536365</td>\n",
       "      <td>71053</td>\n",
       "      <td>WHITE METAL LANTERN</td>\n",
       "      <td>6</td>\n",
       "      <td>12/1/2010 8:26</td>\n",
       "      <td>3.39</td>\n",
       "      <td>17850.0</td>\n",
       "      <td>United Kingdom</td>\n",
       "    </tr>\n",
       "    <tr>\n",
       "      <th>2</th>\n",
       "      <td>536365</td>\n",
       "      <td>84406B</td>\n",
       "      <td>CREAM CUPID HEARTS COAT HANGER</td>\n",
       "      <td>8</td>\n",
       "      <td>12/1/2010 8:26</td>\n",
       "      <td>2.75</td>\n",
       "      <td>17850.0</td>\n",
       "      <td>United Kingdom</td>\n",
       "    </tr>\n",
       "    <tr>\n",
       "      <th>3</th>\n",
       "      <td>536365</td>\n",
       "      <td>84029G</td>\n",
       "      <td>KNITTED UNION FLAG HOT WATER BOTTLE</td>\n",
       "      <td>6</td>\n",
       "      <td>12/1/2010 8:26</td>\n",
       "      <td>3.39</td>\n",
       "      <td>17850.0</td>\n",
       "      <td>United Kingdom</td>\n",
       "    </tr>\n",
       "    <tr>\n",
       "      <th>4</th>\n",
       "      <td>536365</td>\n",
       "      <td>84029E</td>\n",
       "      <td>RED WOOLLY HOTTIE WHITE HEART.</td>\n",
       "      <td>6</td>\n",
       "      <td>12/1/2010 8:26</td>\n",
       "      <td>3.39</td>\n",
       "      <td>17850.0</td>\n",
       "      <td>United Kingdom</td>\n",
       "    </tr>\n",
       "    <tr>\n",
       "      <th>...</th>\n",
       "      <td>...</td>\n",
       "      <td>...</td>\n",
       "      <td>...</td>\n",
       "      <td>...</td>\n",
       "      <td>...</td>\n",
       "      <td>...</td>\n",
       "      <td>...</td>\n",
       "      <td>...</td>\n",
       "    </tr>\n",
       "    <tr>\n",
       "      <th>86898</th>\n",
       "      <td>C543611</td>\n",
       "      <td>82483</td>\n",
       "      <td>WOOD 2 DRAWER CABINET WHITE FINISH</td>\n",
       "      <td>-1</td>\n",
       "      <td>2/10/2011 14:38</td>\n",
       "      <td>4.95</td>\n",
       "      <td>17850.0</td>\n",
       "      <td>United Kingdom</td>\n",
       "    </tr>\n",
       "    <tr>\n",
       "      <th>86899</th>\n",
       "      <td>C543611</td>\n",
       "      <td>21874</td>\n",
       "      <td>GIN AND TONIC MUG</td>\n",
       "      <td>-1</td>\n",
       "      <td>2/10/2011 14:38</td>\n",
       "      <td>1.06</td>\n",
       "      <td>17850.0</td>\n",
       "      <td>United Kingdom</td>\n",
       "    </tr>\n",
       "    <tr>\n",
       "      <th>86900</th>\n",
       "      <td>C543611</td>\n",
       "      <td>71477</td>\n",
       "      <td>COLOUR GLASS. STAR T-LIGHT HOLDER</td>\n",
       "      <td>-2</td>\n",
       "      <td>2/10/2011 14:38</td>\n",
       "      <td>2.75</td>\n",
       "      <td>17850.0</td>\n",
       "      <td>United Kingdom</td>\n",
       "    </tr>\n",
       "    <tr>\n",
       "      <th>86901</th>\n",
       "      <td>C543611</td>\n",
       "      <td>82483</td>\n",
       "      <td>WOOD 2 DRAWER CABINET WHITE FINISH</td>\n",
       "      <td>-1</td>\n",
       "      <td>2/10/2011 14:38</td>\n",
       "      <td>4.95</td>\n",
       "      <td>17850.0</td>\n",
       "      <td>United Kingdom</td>\n",
       "    </tr>\n",
       "    <tr>\n",
       "      <th>86902</th>\n",
       "      <td>C543611</td>\n",
       "      <td>21169</td>\n",
       "      <td>YOU'RE CONFUSING ME METAL SIGN</td>\n",
       "      <td>-2</td>\n",
       "      <td>2/10/2011 14:38</td>\n",
       "      <td>1.45</td>\n",
       "      <td>17850.0</td>\n",
       "      <td>United Kingdom</td>\n",
       "    </tr>\n",
       "  </tbody>\n",
       "</table>\n",
       "<p>312 rows × 8 columns</p>\n",
       "</div>"
      ],
      "text/plain": [
       "      InvoiceNo StockCode                          Description  Quantity  \\\n",
       "0        536365    85123A   WHITE HANGING HEART T-LIGHT HOLDER         6   \n",
       "1        536365     71053                  WHITE METAL LANTERN         6   \n",
       "2        536365    84406B       CREAM CUPID HEARTS COAT HANGER         8   \n",
       "3        536365    84029G  KNITTED UNION FLAG HOT WATER BOTTLE         6   \n",
       "4        536365    84029E       RED WOOLLY HOTTIE WHITE HEART.         6   \n",
       "...         ...       ...                                  ...       ...   \n",
       "86898   C543611     82483   WOOD 2 DRAWER CABINET WHITE FINISH        -1   \n",
       "86899   C543611     21874                    GIN AND TONIC MUG        -1   \n",
       "86900   C543611     71477    COLOUR GLASS. STAR T-LIGHT HOLDER        -2   \n",
       "86901   C543611     82483   WOOD 2 DRAWER CABINET WHITE FINISH        -1   \n",
       "86902   C543611     21169      YOU'RE CONFUSING ME METAL SIGN         -2   \n",
       "\n",
       "           InvoiceDate  UnitPrice  CustomerID         Country  \n",
       "0       12/1/2010 8:26       2.55     17850.0  United Kingdom  \n",
       "1       12/1/2010 8:26       3.39     17850.0  United Kingdom  \n",
       "2       12/1/2010 8:26       2.75     17850.0  United Kingdom  \n",
       "3       12/1/2010 8:26       3.39     17850.0  United Kingdom  \n",
       "4       12/1/2010 8:26       3.39     17850.0  United Kingdom  \n",
       "...                ...        ...         ...             ...  \n",
       "86898  2/10/2011 14:38       4.95     17850.0  United Kingdom  \n",
       "86899  2/10/2011 14:38       1.06     17850.0  United Kingdom  \n",
       "86900  2/10/2011 14:38       2.75     17850.0  United Kingdom  \n",
       "86901  2/10/2011 14:38       4.95     17850.0  United Kingdom  \n",
       "86902  2/10/2011 14:38       1.45     17850.0  United Kingdom  \n",
       "\n",
       "[312 rows x 8 columns]"
      ]
     },
     "execution_count": 11,
     "metadata": {},
     "output_type": "execute_result"
    }
   ],
   "source": [
    "df[df['CustomerID']==17850.0]"
   ]
  },
  {
   "cell_type": "code",
   "execution_count": 12,
   "metadata": {},
   "outputs": [
    {
     "data": {
      "text/plain": [
       "35"
      ]
     },
     "execution_count": 12,
     "metadata": {},
     "output_type": "execute_result"
    }
   ],
   "source": [
    "df[df['CustomerID']==17850.0]['InvoiceNo'].nunique()"
   ]
  },
  {
   "cell_type": "code",
   "execution_count": 13,
   "metadata": {},
   "outputs": [
    {
     "data": {
      "text/plain": [
       "24"
      ]
     },
     "execution_count": 13,
     "metadata": {},
     "output_type": "execute_result"
    }
   ],
   "source": [
    "df[df['CustomerID']==17850.0]['StockCode'].nunique()"
   ]
  },
  {
   "cell_type": "code",
   "execution_count": 14,
   "metadata": {},
   "outputs": [
    {
     "data": {
      "text/html": [
       "<div>\n",
       "<style scoped>\n",
       "    .dataframe tbody tr th:only-of-type {\n",
       "        vertical-align: middle;\n",
       "    }\n",
       "\n",
       "    .dataframe tbody tr th {\n",
       "        vertical-align: top;\n",
       "    }\n",
       "\n",
       "    .dataframe thead th {\n",
       "        text-align: right;\n",
       "    }\n",
       "</style>\n",
       "<table border=\"1\" class=\"dataframe\">\n",
       "  <thead>\n",
       "    <tr style=\"text-align: right;\">\n",
       "      <th></th>\n",
       "      <th>InvoiceNo</th>\n",
       "      <th>StockCode</th>\n",
       "      <th>Description</th>\n",
       "      <th>Quantity</th>\n",
       "      <th>InvoiceDate</th>\n",
       "      <th>UnitPrice</th>\n",
       "      <th>CustomerID</th>\n",
       "      <th>Country</th>\n",
       "    </tr>\n",
       "  </thead>\n",
       "  <tbody>\n",
       "    <tr>\n",
       "      <th>11312</th>\n",
       "      <td>537240</td>\n",
       "      <td>84536A</td>\n",
       "      <td>ENGLISH ROSE NOTEBOOK A7 SIZE</td>\n",
       "      <td>1</td>\n",
       "      <td>12/6/2010 10:08</td>\n",
       "      <td>0.85</td>\n",
       "      <td>NaN</td>\n",
       "      <td>United Kingdom</td>\n",
       "    </tr>\n",
       "    <tr>\n",
       "      <th>210449</th>\n",
       "      <td>555278</td>\n",
       "      <td>22558</td>\n",
       "      <td>CLOTHES PEGS RETROSPOT PACK 24</td>\n",
       "      <td>1</td>\n",
       "      <td>6/1/2011 17:33</td>\n",
       "      <td>3.29</td>\n",
       "      <td>NaN</td>\n",
       "      <td>United Kingdom</td>\n",
       "    </tr>\n",
       "    <tr>\n",
       "      <th>228477</th>\n",
       "      <td>556932</td>\n",
       "      <td>23144</td>\n",
       "      <td>ZINC T-LIGHT HOLDER STARS SMALL</td>\n",
       "      <td>1</td>\n",
       "      <td>6/15/2011 15:41</td>\n",
       "      <td>1.63</td>\n",
       "      <td>NaN</td>\n",
       "      <td>United Kingdom</td>\n",
       "    </tr>\n",
       "  </tbody>\n",
       "</table>\n",
       "</div>"
      ],
      "text/plain": [
       "       InvoiceNo StockCode                      Description  Quantity  \\\n",
       "11312     537240    84536A    ENGLISH ROSE NOTEBOOK A7 SIZE         1   \n",
       "210449    555278     22558  CLOTHES PEGS RETROSPOT PACK 24          1   \n",
       "228477    556932     23144  ZINC T-LIGHT HOLDER STARS SMALL         1   \n",
       "\n",
       "            InvoiceDate  UnitPrice  CustomerID         Country  \n",
       "11312   12/6/2010 10:08       0.85         NaN  United Kingdom  \n",
       "210449   6/1/2011 17:33       3.29         NaN  United Kingdom  \n",
       "228477  6/15/2011 15:41       1.63         NaN  United Kingdom  "
      ]
     },
     "execution_count": 14,
     "metadata": {},
     "output_type": "execute_result"
    }
   ],
   "source": [
    "df[df['CustomerID'].isna()].sample(3)"
   ]
  },
  {
   "cell_type": "code",
   "execution_count": 15,
   "metadata": {},
   "outputs": [
    {
     "data": {
      "text/plain": [
       "InvoiceNo       0.000000\n",
       "StockCode       0.000000\n",
       "Description     0.268311\n",
       "Quantity        0.000000\n",
       "InvoiceDate     0.000000\n",
       "UnitPrice       0.000000\n",
       "CustomerID     24.926694\n",
       "Country         0.000000\n",
       "dtype: float64"
      ]
     },
     "execution_count": 15,
     "metadata": {},
     "output_type": "execute_result"
    }
   ],
   "source": [
    "(df.isnull().sum()*100)/df.shape[0]"
   ]
  },
  {
   "cell_type": "code",
   "execution_count": 16,
   "metadata": {},
   "outputs": [],
   "source": [
    "df.dropna(inplace=True)"
   ]
  },
  {
   "cell_type": "code",
   "execution_count": 17,
   "metadata": {},
   "outputs": [
    {
     "data": {
      "text/plain": [
       "InvoiceNo      0\n",
       "StockCode      0\n",
       "Description    0\n",
       "Quantity       0\n",
       "InvoiceDate    0\n",
       "UnitPrice      0\n",
       "CustomerID     0\n",
       "Country        0\n",
       "dtype: int64"
      ]
     },
     "execution_count": 17,
     "metadata": {},
     "output_type": "execute_result"
    }
   ],
   "source": [
    "df.isnull().sum()"
   ]
  },
  {
   "cell_type": "markdown",
   "metadata": {},
   "source": [
    "No. of unique countries\n"
   ]
  },
  {
   "cell_type": "code",
   "execution_count": 18,
   "metadata": {},
   "outputs": [
    {
     "data": {
      "text/plain": [
       "37"
      ]
     },
     "execution_count": 18,
     "metadata": {},
     "output_type": "execute_result"
    }
   ],
   "source": [
    "df['Country'].nunique()"
   ]
  },
  {
   "cell_type": "code",
   "execution_count": 19,
   "metadata": {},
   "outputs": [
    {
     "data": {
      "text/html": [
       "<div>\n",
       "<style scoped>\n",
       "    .dataframe tbody tr th:only-of-type {\n",
       "        vertical-align: middle;\n",
       "    }\n",
       "\n",
       "    .dataframe tbody tr th {\n",
       "        vertical-align: top;\n",
       "    }\n",
       "\n",
       "    .dataframe thead th {\n",
       "        text-align: right;\n",
       "    }\n",
       "</style>\n",
       "<table border=\"1\" class=\"dataframe\">\n",
       "  <thead>\n",
       "    <tr style=\"text-align: right;\">\n",
       "      <th></th>\n",
       "      <th>Country</th>\n",
       "      <th>No.of Transcations</th>\n",
       "    </tr>\n",
       "  </thead>\n",
       "  <tbody>\n",
       "    <tr>\n",
       "      <th>35</th>\n",
       "      <td>United Kingdom</td>\n",
       "      <td>361878</td>\n",
       "    </tr>\n",
       "    <tr>\n",
       "      <th>14</th>\n",
       "      <td>Germany</td>\n",
       "      <td>9495</td>\n",
       "    </tr>\n",
       "    <tr>\n",
       "      <th>13</th>\n",
       "      <td>France</td>\n",
       "      <td>8491</td>\n",
       "    </tr>\n",
       "    <tr>\n",
       "      <th>10</th>\n",
       "      <td>EIRE</td>\n",
       "      <td>7485</td>\n",
       "    </tr>\n",
       "    <tr>\n",
       "      <th>30</th>\n",
       "      <td>Spain</td>\n",
       "      <td>2533</td>\n",
       "    </tr>\n",
       "    <tr>\n",
       "      <th>23</th>\n",
       "      <td>Netherlands</td>\n",
       "      <td>2371</td>\n",
       "    </tr>\n",
       "    <tr>\n",
       "      <th>3</th>\n",
       "      <td>Belgium</td>\n",
       "      <td>2069</td>\n",
       "    </tr>\n",
       "    <tr>\n",
       "      <th>32</th>\n",
       "      <td>Switzerland</td>\n",
       "      <td>1877</td>\n",
       "    </tr>\n",
       "    <tr>\n",
       "      <th>26</th>\n",
       "      <td>Portugal</td>\n",
       "      <td>1480</td>\n",
       "    </tr>\n",
       "    <tr>\n",
       "      <th>0</th>\n",
       "      <td>Australia</td>\n",
       "      <td>1259</td>\n",
       "    </tr>\n",
       "    <tr>\n",
       "      <th>24</th>\n",
       "      <td>Norway</td>\n",
       "      <td>1086</td>\n",
       "    </tr>\n",
       "    <tr>\n",
       "      <th>18</th>\n",
       "      <td>Italy</td>\n",
       "      <td>803</td>\n",
       "    </tr>\n",
       "    <tr>\n",
       "      <th>6</th>\n",
       "      <td>Channel Islands</td>\n",
       "      <td>758</td>\n",
       "    </tr>\n",
       "    <tr>\n",
       "      <th>12</th>\n",
       "      <td>Finland</td>\n",
       "      <td>695</td>\n",
       "    </tr>\n",
       "    <tr>\n",
       "      <th>7</th>\n",
       "      <td>Cyprus</td>\n",
       "      <td>622</td>\n",
       "    </tr>\n",
       "    <tr>\n",
       "      <th>31</th>\n",
       "      <td>Sweden</td>\n",
       "      <td>462</td>\n",
       "    </tr>\n",
       "    <tr>\n",
       "      <th>1</th>\n",
       "      <td>Austria</td>\n",
       "      <td>401</td>\n",
       "    </tr>\n",
       "    <tr>\n",
       "      <th>9</th>\n",
       "      <td>Denmark</td>\n",
       "      <td>389</td>\n",
       "    </tr>\n",
       "    <tr>\n",
       "      <th>19</th>\n",
       "      <td>Japan</td>\n",
       "      <td>358</td>\n",
       "    </tr>\n",
       "    <tr>\n",
       "      <th>25</th>\n",
       "      <td>Poland</td>\n",
       "      <td>341</td>\n",
       "    </tr>\n",
       "    <tr>\n",
       "      <th>33</th>\n",
       "      <td>USA</td>\n",
       "      <td>291</td>\n",
       "    </tr>\n",
       "    <tr>\n",
       "      <th>17</th>\n",
       "      <td>Israel</td>\n",
       "      <td>250</td>\n",
       "    </tr>\n",
       "    <tr>\n",
       "      <th>36</th>\n",
       "      <td>Unspecified</td>\n",
       "      <td>244</td>\n",
       "    </tr>\n",
       "    <tr>\n",
       "      <th>29</th>\n",
       "      <td>Singapore</td>\n",
       "      <td>229</td>\n",
       "    </tr>\n",
       "    <tr>\n",
       "      <th>16</th>\n",
       "      <td>Iceland</td>\n",
       "      <td>182</td>\n",
       "    </tr>\n",
       "    <tr>\n",
       "      <th>5</th>\n",
       "      <td>Canada</td>\n",
       "      <td>151</td>\n",
       "    </tr>\n",
       "    <tr>\n",
       "      <th>15</th>\n",
       "      <td>Greece</td>\n",
       "      <td>146</td>\n",
       "    </tr>\n",
       "    <tr>\n",
       "      <th>22</th>\n",
       "      <td>Malta</td>\n",
       "      <td>127</td>\n",
       "    </tr>\n",
       "    <tr>\n",
       "      <th>34</th>\n",
       "      <td>United Arab Emirates</td>\n",
       "      <td>68</td>\n",
       "    </tr>\n",
       "    <tr>\n",
       "      <th>11</th>\n",
       "      <td>European Community</td>\n",
       "      <td>61</td>\n",
       "    </tr>\n",
       "    <tr>\n",
       "      <th>27</th>\n",
       "      <td>RSA</td>\n",
       "      <td>58</td>\n",
       "    </tr>\n",
       "    <tr>\n",
       "      <th>20</th>\n",
       "      <td>Lebanon</td>\n",
       "      <td>45</td>\n",
       "    </tr>\n",
       "    <tr>\n",
       "      <th>21</th>\n",
       "      <td>Lithuania</td>\n",
       "      <td>35</td>\n",
       "    </tr>\n",
       "    <tr>\n",
       "      <th>4</th>\n",
       "      <td>Brazil</td>\n",
       "      <td>32</td>\n",
       "    </tr>\n",
       "    <tr>\n",
       "      <th>8</th>\n",
       "      <td>Czech Republic</td>\n",
       "      <td>30</td>\n",
       "    </tr>\n",
       "    <tr>\n",
       "      <th>2</th>\n",
       "      <td>Bahrain</td>\n",
       "      <td>17</td>\n",
       "    </tr>\n",
       "    <tr>\n",
       "      <th>28</th>\n",
       "      <td>Saudi Arabia</td>\n",
       "      <td>10</td>\n",
       "    </tr>\n",
       "  </tbody>\n",
       "</table>\n",
       "</div>"
      ],
      "text/plain": [
       "                 Country  No.of Transcations\n",
       "35        United Kingdom              361878\n",
       "14               Germany                9495\n",
       "13                France                8491\n",
       "10                  EIRE                7485\n",
       "30                 Spain                2533\n",
       "23           Netherlands                2371\n",
       "3                Belgium                2069\n",
       "32           Switzerland                1877\n",
       "26              Portugal                1480\n",
       "0              Australia                1259\n",
       "24                Norway                1086\n",
       "18                 Italy                 803\n",
       "6        Channel Islands                 758\n",
       "12               Finland                 695\n",
       "7                 Cyprus                 622\n",
       "31                Sweden                 462\n",
       "1                Austria                 401\n",
       "9                Denmark                 389\n",
       "19                 Japan                 358\n",
       "25                Poland                 341\n",
       "33                   USA                 291\n",
       "17                Israel                 250\n",
       "36           Unspecified                 244\n",
       "29             Singapore                 229\n",
       "16               Iceland                 182\n",
       "5                 Canada                 151\n",
       "15                Greece                 146\n",
       "22                 Malta                 127\n",
       "34  United Arab Emirates                  68\n",
       "11    European Community                  61\n",
       "27                   RSA                  58\n",
       "20               Lebanon                  45\n",
       "21             Lithuania                  35\n",
       "4                 Brazil                  32\n",
       "8         Czech Republic                  30\n",
       "2                Bahrain                  17\n",
       "28          Saudi Arabia                  10"
      ]
     },
     "execution_count": 19,
     "metadata": {},
     "output_type": "execute_result"
    }
   ],
   "source": [
    "df.groupby(['Country']).agg({'InvoiceNo':'count'}).reset_index().sort_values(by='InvoiceNo',ascending = False).rename(columns={'InvoiceNo':'No.of Transcations'})"
   ]
  },
  {
   "cell_type": "code",
   "execution_count": 20,
   "metadata": {},
   "outputs": [
    {
     "data": {
      "text/plain": [
       "<Axes: xlabel='Quantity', ylabel='Density'>"
      ]
     },
     "execution_count": 20,
     "metadata": {},
     "output_type": "execute_result"
    },
    {
     "data": {
      "image/png": "[encoded data removed]",
      "text/plain": [
       "<Figure size 432x288 with 1 Axes>"
      ]
     },
     "metadata": {
      "needs_background": "light"
     },
     "output_type": "display_data"
    }
   ],
   "source": [
    "sns.kdeplot(df['Quantity'])"
   ]
  },
  {
   "cell_type": "code",
   "execution_count": null,
   "metadata": {},
   "outputs": [],
   "source": [
    "# # Univariate analysis - Quantity\n",
    "# plt.figure(figsize=(10, 8))\n",
    "# sns.histplot(df['Quantity'], kde=True)\n",
    "# plt.title('Distribution of Quantity')\n",
    "# plt.xlabel('Quantity')\n",
    "# plt.ylabel('Frequency')\n",
    "# plt.show()\n"
   ]
  },
  {
   "cell_type": "code",
   "execution_count": 22,
   "metadata": {},
   "outputs": [],
   "source": [
    "# # Categorical analysis - Country\n",
    "# plt.figure(figsize=(10, 6))\n",
    "# sns.countplot(data=df, x='Country')\n",
    "# plt.title('Distribution of Orders by Country')\n",
    "# plt.xlabel('Country')\n",
    "# plt.ylabel('Number of Orders')\n",
    "# plt.xticks(rotation=90)\n",
    "# plt.show()\n"
   ]
  },
  {
   "cell_type": "code",
   "execution_count": 24,
   "metadata": {},
   "outputs": [],
   "source": [
    "# group_country = df.groupby('Country')['Quantity'].sum().reset_index()\n",
    "\n",
    "# # Convert the 'Quantity' column to float type\n",
    "# group_country['Quantity'] = group_country['Quantity'].astype(float)\n",
    "\n",
    "# plt.figure(figsize=(8, 6))\n",
    "# sns.barplot(x='Country', y='Quantity', data=group_country)\n",
    "# plt.title('Total Quantity by Country')\n",
    "# plt.xticks(rotation=45)\n",
    "# plt.show()"
   ]
  },
  {
   "cell_type": "code",
   "execution_count": 25,
   "metadata": {},
   "outputs": [
    {
     "data": {
      "image/png": "[encoded data removed]",
      "text/plain": [
       "<Figure size 576x432 with 1 Axes>"
      ]
     },
     "metadata": {
      "needs_background": "light"
     },
     "output_type": "display_data"
    }
   ],
   "source": [
    "# Bivariate analysis - Quantity vs UnitPrice\n",
    "plt.figure(figsize=(8, 6))\n",
    "sns.scatterplot(data=df, x='Quantity', y='UnitPrice')\n",
    "plt.title('Quantity vs UnitPrice')\n",
    "plt.xlabel('Quantity')\n",
    "plt.ylabel('UnitPrice')\n",
    "plt.show()\n"
   ]
  },
  {
   "cell_type": "code",
   "execution_count": 26,
   "metadata": {},
   "outputs": [
    {
     "data": {
      "text/plain": [
       "InvoiceNo      0\n",
       "StockCode      0\n",
       "Description    0\n",
       "Quantity       0\n",
       "InvoiceDate    0\n",
       "UnitPrice      0\n",
       "CustomerID     0\n",
       "Country        0\n",
       "dtype: int64"
      ]
     },
     "execution_count": 26,
     "metadata": {},
     "output_type": "execute_result"
    }
   ],
   "source": [
    "df[df['Quantity']==0].nunique()"
   ]
  },
  {
   "cell_type": "code",
   "execution_count": 24,
   "metadata": {},
   "outputs": [
    {
     "data": {
      "text/plain": [
       "540422   -80995\n",
       "61624    -74215\n",
       "4287      -9360\n",
       "160145    -3114\n",
       "160144    -2000\n",
       "160143    -1930\n",
       "224419    -1515\n",
       "187609    -1350\n",
       "160142    -1300\n",
       "390548    -1296\n",
       "Name: Quantity, dtype: int64"
      ]
     },
     "execution_count": 24,
     "metadata": {},
     "output_type": "execute_result"
    }
   ],
   "source": [
    "df['Quantity'].sort_values().head(10)"
   ]
  },
  {
   "cell_type": "code",
   "execution_count": 25,
   "metadata": {},
   "outputs": [
    {
     "data": {
      "text/plain": [
       "433788     3000\n",
       "52711      3114\n",
       "160546     3114\n",
       "270885     3186\n",
       "97432      3906\n",
       "206121     4300\n",
       "421632     4800\n",
       "502122    12540\n",
       "61619     74215\n",
       "540421    80995\n",
       "Name: Quantity, dtype: int64"
      ]
     },
     "execution_count": 25,
     "metadata": {},
     "output_type": "execute_result"
    }
   ],
   "source": [
    "df['Quantity'].sort_values().tail(10)"
   ]
  },
  {
   "cell_type": "code",
   "execution_count": 30,
   "metadata": {},
   "outputs": [
    {
     "data": {
      "image/png": "[encoded data removed]",
      "text/plain": [
       "<Figure size 576x432 with 1 Axes>"
      ]
     },
     "metadata": {
      "needs_background": "light"
     },
     "output_type": "display_data"
    }
   ],
   "source": [
    "# Outlier Detection\n",
    "plt.figure(figsize=(8, 6))\n",
    "sns.boxplot(data=df, x='Quantity')\n",
    "plt.title('Outliers in Quantity')\n",
    "plt.show()"
   ]
  },
  {
   "cell_type": "code",
   "execution_count": 31,
   "metadata": {},
   "outputs": [],
   "source": [
    "# Date/Time Analysis\n",
    "df['InvoiceDate'] = pd.to_datetime(df['InvoiceDate'])\n",
    "df['Year'] = df['InvoiceDate'].dt.year\n",
    "df['Month'] = df['InvoiceDate'].dt.month\n",
    "df['Day'] = df['InvoiceDate'].dt.day\n",
    "df['DayOfWeek'] = df['InvoiceDate'].dt.day_name()"
   ]
  },
  {
   "cell_type": "code",
   "execution_count": 32,
   "metadata": {},
   "outputs": [],
   "source": [
    "df['YearMonth'] = df['InvoiceDate'].dt.strftime('%Y-%m')"
   ]
  },
  {
   "cell_type": "code",
   "execution_count": 33,
   "metadata": {
    "scrolled": true
   },
   "outputs": [
    {
     "data": {
      "text/plain": [
       "DayOfWeek\n",
       "Thursday     0.202478\n",
       "Wednesday    0.173535\n",
       "Tuesday      0.167417\n",
       "Monday       0.163169\n",
       "Sunday       0.155439\n",
       "Friday       0.137962\n",
       "Name: proportion, dtype: float64"
      ]
     },
     "execution_count": 33,
     "metadata": {},
     "output_type": "execute_result"
    }
   ],
   "source": [
    "df['DayOfWeek'].value_counts(normalize=True)"
   ]
  },
  {
   "cell_type": "code",
   "execution_count": 34,
   "metadata": {
    "scrolled": false
   },
   "outputs": [
    {
     "data": {
      "text/plain": [
       "Year\n",
       "2011    0.934002\n",
       "2010    0.065998\n",
       "Name: proportion, dtype: float64"
      ]
     },
     "execution_count": 34,
     "metadata": {},
     "output_type": "execute_result"
    }
   ],
   "source": [
    "df['Year'].value_counts(normalize=True)"
   ]
  },
  {
   "cell_type": "code",
   "execution_count": 35,
   "metadata": {},
   "outputs": [],
   "source": [
    "df['Sales']= df['Quantity']*df['UnitPrice']"
   ]
  },
  {
   "cell_type": "code",
   "execution_count": 36,
   "metadata": {},
   "outputs": [],
   "source": [
    "sales_by_month = df.groupby('YearMonth').agg({'Sales':'sum'}).reset_index()"
   ]
  },
  {
   "cell_type": "code",
   "execution_count": 37,
   "metadata": {},
   "outputs": [
    {
     "data": {
      "image/png": "[encoded data removed]",
      "text/plain": [
       "<Figure size 720x432 with 1 Axes>"
      ]
     },
     "metadata": {
      "needs_background": "light"
     },
     "output_type": "display_data"
    }
   ],
   "source": [
    "plt.figure(figsize=(10, 6))\n",
    "plt.plot(sales_by_month['YearMonth'], sales_by_month['Sales'], marker='o', linestyle='-')\n",
    "plt.title('Sales Over Time')\n",
    "plt.xlabel('Year-Month')\n",
    "plt.ylabel('Total Sales')\n",
    "plt.xticks(rotation=45)\n",
    "plt.grid(True)\n",
    "plt.tight_layout()\n",
    "plt.show()\n"
   ]
  },
  {
   "cell_type": "code",
   "execution_count": 38,
   "metadata": {},
   "outputs": [
    {
     "data": {
      "text/plain": [
       "Timestamp('2011-12-09 12:50:00')"
      ]
     },
     "execution_count": 38,
     "metadata": {},
     "output_type": "execute_result"
    }
   ],
   "source": [
    "df['InvoiceDate'].max()"
   ]
  },
  {
   "cell_type": "markdown",
   "metadata": {},
   "source": [
    "Few initial observations from the data\n",
    "\n",
    "1) Almost 90-95% of the sales is happening from UK.\n",
    "\n",
    "2) There are customers who are buying in bulk from the website stating they might be wholesailers.\n",
    "\n",
    "3) CustomerID is missing for 25% of the data\n",
    "\n",
    "4) Most of sales data is from 2011(92%) and the rest is from 2010(8%)\n",
    "\n",
    "5) Saturday there is no sales, suggesting the store would be closed\n",
    "\n",
    "6) There are outliers in quantity at both tail ends, also -ve quantity suggesting there is a provision of return back to the store.\n",
    "\n",
    "\n",
    "7) Sales has an upward trend, exception being most recent december month as data has only 9 days of records which is inconclusive of entire month sales.\n"
   ]
  },
  {
   "cell_type": "markdown",
   "metadata": {},
   "source": [
    "## Cohort Analysis"
   ]
  },
  {
   "cell_type": "code",
   "execution_count": 75,
   "metadata": {
    "scrolled": true
   },
   "outputs": [
    {
     "data": {
      "text/html": [
       "<div>\n",
       "<style scoped>\n",
       "    .dataframe tbody tr th:only-of-type {\n",
       "        vertical-align: middle;\n",
       "    }\n",
       "\n",
       "    .dataframe tbody tr th {\n",
       "        vertical-align: top;\n",
       "    }\n",
       "\n",
       "    .dataframe thead th {\n",
       "        text-align: right;\n",
       "    }\n",
       "</style>\n",
       "<table border=\"1\" class=\"dataframe\">\n",
       "  <thead>\n",
       "    <tr style=\"text-align: right;\">\n",
       "      <th></th>\n",
       "      <th>YearMonth</th>\n",
       "      <th>CustomerID</th>\n",
       "    </tr>\n",
       "  </thead>\n",
       "  <tbody>\n",
       "    <tr>\n",
       "      <th>0</th>\n",
       "      <td>2010-12</td>\n",
       "      <td>948</td>\n",
       "    </tr>\n",
       "    <tr>\n",
       "      <th>1</th>\n",
       "      <td>2011-01</td>\n",
       "      <td>421</td>\n",
       "    </tr>\n",
       "    <tr>\n",
       "      <th>2</th>\n",
       "      <td>2011-02</td>\n",
       "      <td>380</td>\n",
       "    </tr>\n",
       "    <tr>\n",
       "      <th>3</th>\n",
       "      <td>2011-03</td>\n",
       "      <td>440</td>\n",
       "    </tr>\n",
       "    <tr>\n",
       "      <th>4</th>\n",
       "      <td>2011-04</td>\n",
       "      <td>299</td>\n",
       "    </tr>\n",
       "    <tr>\n",
       "      <th>5</th>\n",
       "      <td>2011-05</td>\n",
       "      <td>279</td>\n",
       "    </tr>\n",
       "    <tr>\n",
       "      <th>6</th>\n",
       "      <td>2011-06</td>\n",
       "      <td>235</td>\n",
       "    </tr>\n",
       "    <tr>\n",
       "      <th>7</th>\n",
       "      <td>2011-07</td>\n",
       "      <td>191</td>\n",
       "    </tr>\n",
       "    <tr>\n",
       "      <th>8</th>\n",
       "      <td>2011-08</td>\n",
       "      <td>167</td>\n",
       "    </tr>\n",
       "    <tr>\n",
       "      <th>9</th>\n",
       "      <td>2011-09</td>\n",
       "      <td>298</td>\n",
       "    </tr>\n",
       "    <tr>\n",
       "      <th>10</th>\n",
       "      <td>2011-10</td>\n",
       "      <td>352</td>\n",
       "    </tr>\n",
       "    <tr>\n",
       "      <th>11</th>\n",
       "      <td>2011-11</td>\n",
       "      <td>321</td>\n",
       "    </tr>\n",
       "    <tr>\n",
       "      <th>12</th>\n",
       "      <td>2011-12</td>\n",
       "      <td>41</td>\n",
       "    </tr>\n",
       "  </tbody>\n",
       "</table>\n",
       "</div>"
      ],
      "text/plain": [
       "   YearMonth  CustomerID\n",
       "0    2010-12         948\n",
       "1    2011-01         421\n",
       "2    2011-02         380\n",
       "3    2011-03         440\n",
       "4    2011-04         299\n",
       "5    2011-05         279\n",
       "6    2011-06         235\n",
       "7    2011-07         191\n",
       "8    2011-08         167\n",
       "9    2011-09         298\n",
       "10   2011-10         352\n",
       "11   2011-11         321\n",
       "12   2011-12          41"
      ]
     },
     "execution_count": 75,
     "metadata": {},
     "output_type": "execute_result"
    }
   ],
   "source": [
    "ss = df.groupby('CustomerID').agg({'YearMonth':'min'}).reset_index()\n",
    "ss.groupby('YearMonth').agg({'CustomerID':'count'}).reset_index()"
   ]
  },
  {
   "cell_type": "code",
   "execution_count": 76,
   "metadata": {},
   "outputs": [
    {
     "data": {
      "text/html": [
       "<div>\n",
       "<style scoped>\n",
       "    .dataframe tbody tr th:only-of-type {\n",
       "        vertical-align: middle;\n",
       "    }\n",
       "\n",
       "    .dataframe tbody tr th {\n",
       "        vertical-align: top;\n",
       "    }\n",
       "\n",
       "    .dataframe thead th {\n",
       "        text-align: right;\n",
       "    }\n",
       "</style>\n",
       "<table border=\"1\" class=\"dataframe\">\n",
       "  <thead>\n",
       "    <tr style=\"text-align: right;\">\n",
       "      <th></th>\n",
       "      <th>InvoiceNo</th>\n",
       "      <th>StockCode</th>\n",
       "      <th>Description</th>\n",
       "      <th>Quantity</th>\n",
       "      <th>InvoiceDate</th>\n",
       "      <th>UnitPrice</th>\n",
       "      <th>CustomerID</th>\n",
       "      <th>Country</th>\n",
       "      <th>Year</th>\n",
       "      <th>Month</th>\n",
       "      <th>...</th>\n",
       "      <th>Recency</th>\n",
       "      <th>Monetary</th>\n",
       "      <th>Frequency</th>\n",
       "      <th>canc_order</th>\n",
       "      <th>No. of cancelled orders</th>\n",
       "      <th>Actual_Frequency</th>\n",
       "      <th>AOV</th>\n",
       "      <th>UniqueProducts</th>\n",
       "      <th>Average_Purchase_Time</th>\n",
       "      <th>UK_Flag</th>\n",
       "    </tr>\n",
       "  </thead>\n",
       "  <tbody>\n",
       "    <tr>\n",
       "      <th>381295</th>\n",
       "      <td>579001</td>\n",
       "      <td>17003</td>\n",
       "      <td>BROCADE RING PURSE</td>\n",
       "      <td>36</td>\n",
       "      <td>2011-11-27 16:19:00</td>\n",
       "      <td>0.39</td>\n",
       "      <td>15555.0</td>\n",
       "      <td>United Kingdom</td>\n",
       "      <td>2011</td>\n",
       "      <td>11</td>\n",
       "      <td>...</td>\n",
       "      <td>11</td>\n",
       "      <td>4758.20</td>\n",
       "      <td>925</td>\n",
       "      <td>0</td>\n",
       "      <td>26</td>\n",
       "      <td>899</td>\n",
       "      <td>5.292770</td>\n",
       "      <td>404</td>\n",
       "      <td>0.409344</td>\n",
       "      <td>1</td>\n",
       "    </tr>\n",
       "    <tr>\n",
       "      <th>194959</th>\n",
       "      <td>560807</td>\n",
       "      <td>22950</td>\n",
       "      <td>36 DOILIES VINTAGE CHRISTMAS</td>\n",
       "      <td>12</td>\n",
       "      <td>2011-07-21 10:44:00</td>\n",
       "      <td>1.45</td>\n",
       "      <td>18143.0</td>\n",
       "      <td>United Kingdom</td>\n",
       "      <td>2011</td>\n",
       "      <td>7</td>\n",
       "      <td>...</td>\n",
       "      <td>116</td>\n",
       "      <td>1000.16</td>\n",
       "      <td>61</td>\n",
       "      <td>0</td>\n",
       "      <td>0</td>\n",
       "      <td>61</td>\n",
       "      <td>16.396066</td>\n",
       "      <td>59</td>\n",
       "      <td>2.311475</td>\n",
       "      <td>1</td>\n",
       "    </tr>\n",
       "    <tr>\n",
       "      <th>56112</th>\n",
       "      <td>543746</td>\n",
       "      <td>22727</td>\n",
       "      <td>ALARM CLOCK BAKELIKE RED</td>\n",
       "      <td>8</td>\n",
       "      <td>2011-02-11 13:50:00</td>\n",
       "      <td>3.75</td>\n",
       "      <td>17675.0</td>\n",
       "      <td>United Kingdom</td>\n",
       "      <td>2011</td>\n",
       "      <td>2</td>\n",
       "      <td>...</td>\n",
       "      <td>0</td>\n",
       "      <td>20098.10</td>\n",
       "      <td>721</td>\n",
       "      <td>0</td>\n",
       "      <td>16</td>\n",
       "      <td>705</td>\n",
       "      <td>28.507943</td>\n",
       "      <td>240</td>\n",
       "      <td>0.519149</td>\n",
       "      <td>1</td>\n",
       "    </tr>\n",
       "  </tbody>\n",
       "</table>\n",
       "<p>3 rows × 26 columns</p>\n",
       "</div>"
      ],
      "text/plain": [
       "       InvoiceNo StockCode                   Description  Quantity  \\\n",
       "381295    579001     17003           BROCADE RING PURSE         36   \n",
       "194959    560807     22950  36 DOILIES VINTAGE CHRISTMAS        12   \n",
       "56112     543746     22727     ALARM CLOCK BAKELIKE RED          8   \n",
       "\n",
       "               InvoiceDate  UnitPrice  CustomerID         Country  Year  \\\n",
       "381295 2011-11-27 16:19:00       0.39     15555.0  United Kingdom  2011   \n",
       "194959 2011-07-21 10:44:00       1.45     18143.0  United Kingdom  2011   \n",
       "56112  2011-02-11 13:50:00       3.75     17675.0  United Kingdom  2011   \n",
       "\n",
       "        Month  ...  Recency  Monetary Frequency  canc_order  \\\n",
       "381295     11  ...       11   4758.20       925           0   \n",
       "194959      7  ...      116   1000.16        61           0   \n",
       "56112       2  ...        0  20098.10       721           0   \n",
       "\n",
       "        No. of cancelled orders  Actual_Frequency        AOV  UniqueProducts  \\\n",
       "381295                       26               899   5.292770             404   \n",
       "194959                        0                61  16.396066              59   \n",
       "56112                        16               705  28.507943             240   \n",
       "\n",
       "        Average_Purchase_Time  UK_Flag  \n",
       "381295               0.409344        1  \n",
       "194959               2.311475        1  \n",
       "56112                0.519149        1  \n",
       "\n",
       "[3 rows x 26 columns]"
      ]
     },
     "execution_count": 76,
     "metadata": {},
     "output_type": "execute_result"
    }
   ],
   "source": [
    "df.sample(3)"
   ]
  },
  {
   "cell_type": "code",
   "execution_count": 77,
   "metadata": {},
   "outputs": [],
   "source": [
    "sub = df[['CustomerID', 'InvoiceNo', 'InvoiceDate','YearMonth']].drop_duplicates()"
   ]
  },
  {
   "cell_type": "code",
   "execution_count": 78,
   "metadata": {},
   "outputs": [],
   "source": [
    "cohort = sub.groupby(['CustomerID']).agg({'YearMonth':'min'}).reset_index().rename(columns = {'YearMonth':'Cohort'})"
   ]
  },
  {
   "cell_type": "code",
   "execution_count": 79,
   "metadata": {},
   "outputs": [],
   "source": [
    "sub_cohort = sub.merge(cohort,how='left',left_on = ['CustomerID'],right_on = ['CustomerID'])"
   ]
  },
  {
   "cell_type": "code",
   "execution_count": 80,
   "metadata": {},
   "outputs": [],
   "source": [
    "sub_cohort['YearMonth'] = pd.to_datetime(sub_cohort['YearMonth'])\n",
    "sub_cohort['Cohort'] = pd.to_datetime(sub_cohort['Cohort'])\n",
    "\n",
    "# Calculate the difference in months\n",
    "sub_cohort['MonthDifference'] = (sub_cohort['YearMonth'].dt.year - sub_cohort['Cohort'].dt.year) * 12 + \\\n",
    "                        (sub_cohort['YearMonth'].dt.month - sub_cohort['Cohort'].dt.month)\n"
   ]
  },
  {
   "cell_type": "code",
   "execution_count": 81,
   "metadata": {},
   "outputs": [
    {
     "data": {
      "text/html": [
       "<div>\n",
       "<style scoped>\n",
       "    .dataframe tbody tr th:only-of-type {\n",
       "        vertical-align: middle;\n",
       "    }\n",
       "\n",
       "    .dataframe tbody tr th {\n",
       "        vertical-align: top;\n",
       "    }\n",
       "\n",
       "    .dataframe thead th {\n",
       "        text-align: right;\n",
       "    }\n",
       "</style>\n",
       "<table border=\"1\" class=\"dataframe\">\n",
       "  <thead>\n",
       "    <tr style=\"text-align: right;\">\n",
       "      <th></th>\n",
       "      <th>CustomerID</th>\n",
       "      <th>InvoiceNo</th>\n",
       "      <th>InvoiceDate</th>\n",
       "      <th>YearMonth</th>\n",
       "      <th>Cohort</th>\n",
       "      <th>MonthDifference</th>\n",
       "    </tr>\n",
       "  </thead>\n",
       "  <tbody>\n",
       "    <tr>\n",
       "      <th>10224</th>\n",
       "      <td>14408.0</td>\n",
       "      <td>557620</td>\n",
       "      <td>2011-06-21 13:58:00</td>\n",
       "      <td>2011-06-01</td>\n",
       "      <td>2011-03-01</td>\n",
       "      <td>3</td>\n",
       "    </tr>\n",
       "    <tr>\n",
       "      <th>3302</th>\n",
       "      <td>13590.0</td>\n",
       "      <td>543534</td>\n",
       "      <td>2011-02-09 13:25:00</td>\n",
       "      <td>2011-02-01</td>\n",
       "      <td>2011-02-01</td>\n",
       "      <td>0</td>\n",
       "    </tr>\n",
       "    <tr>\n",
       "      <th>5615</th>\n",
       "      <td>16712.0</td>\n",
       "      <td>548198</td>\n",
       "      <td>2011-03-29 16:05:00</td>\n",
       "      <td>2011-03-01</td>\n",
       "      <td>2011-03-01</td>\n",
       "      <td>0</td>\n",
       "    </tr>\n",
       "  </tbody>\n",
       "</table>\n",
       "</div>"
      ],
      "text/plain": [
       "       CustomerID InvoiceNo         InvoiceDate  YearMonth     Cohort  \\\n",
       "10224     14408.0    557620 2011-06-21 13:58:00 2011-06-01 2011-03-01   \n",
       "3302      13590.0    543534 2011-02-09 13:25:00 2011-02-01 2011-02-01   \n",
       "5615      16712.0    548198 2011-03-29 16:05:00 2011-03-01 2011-03-01   \n",
       "\n",
       "       MonthDifference  \n",
       "10224                3  \n",
       "3302                 0  \n",
       "5615                 0  "
      ]
     },
     "execution_count": 81,
     "metadata": {},
     "output_type": "execute_result"
    }
   ],
   "source": [
    "sub_cohort.sample(3)"
   ]
  },
  {
   "cell_type": "code",
   "execution_count": 82,
   "metadata": {},
   "outputs": [],
   "source": [
    "sub_cohort_gg = sub_cohort[['CustomerID','Cohort','MonthDifference']].drop_duplicates()"
   ]
  },
  {
   "cell_type": "code",
   "execution_count": 83,
   "metadata": {},
   "outputs": [],
   "source": [
    "reten = sub_cohort_gg.pivot_table(index='Cohort', columns='MonthDifference', values='CustomerID', aggfunc='count').reset_index()"
   ]
  },
  {
   "cell_type": "code",
   "execution_count": 84,
   "metadata": {},
   "outputs": [
    {
     "data": {
      "text/plain": [
       "0     948.0\n",
       "1     421.0\n",
       "2     380.0\n",
       "3     440.0\n",
       "4     299.0\n",
       "5     279.0\n",
       "6     235.0\n",
       "7     191.0\n",
       "8     167.0\n",
       "9     298.0\n",
       "10    352.0\n",
       "11    321.0\n",
       "12     41.0\n",
       "Name: 0, dtype: float64"
      ]
     },
     "execution_count": 84,
     "metadata": {},
     "output_type": "execute_result"
    }
   ],
   "source": [
    "reten[0]"
   ]
  },
  {
   "cell_type": "code",
   "execution_count": 85,
   "metadata": {
    "scrolled": true
   },
   "outputs": [
    {
     "data": {
      "text/html": [
       "<div>\n",
       "<style scoped>\n",
       "    .dataframe tbody tr th:only-of-type {\n",
       "        vertical-align: middle;\n",
       "    }\n",
       "\n",
       "    .dataframe tbody tr th {\n",
       "        vertical-align: top;\n",
       "    }\n",
       "\n",
       "    .dataframe thead th {\n",
       "        text-align: right;\n",
       "    }\n",
       "</style>\n",
       "<table border=\"1\" class=\"dataframe\">\n",
       "  <thead>\n",
       "    <tr style=\"text-align: right;\">\n",
       "      <th>MonthDifference</th>\n",
       "      <th>Cohort</th>\n",
       "      <th>0</th>\n",
       "      <th>1</th>\n",
       "      <th>2</th>\n",
       "      <th>3</th>\n",
       "      <th>4</th>\n",
       "      <th>5</th>\n",
       "      <th>6</th>\n",
       "      <th>7</th>\n",
       "      <th>8</th>\n",
       "      <th>9</th>\n",
       "      <th>10</th>\n",
       "      <th>11</th>\n",
       "      <th>12</th>\n",
       "    </tr>\n",
       "  </thead>\n",
       "  <tbody>\n",
       "    <tr>\n",
       "      <th>0</th>\n",
       "      <td>2010-12-01</td>\n",
       "      <td>948.0</td>\n",
       "      <td>38.19</td>\n",
       "      <td>33.44</td>\n",
       "      <td>38.71</td>\n",
       "      <td>35.97</td>\n",
       "      <td>39.66</td>\n",
       "      <td>37.97</td>\n",
       "      <td>35.44</td>\n",
       "      <td>35.44</td>\n",
       "      <td>39.45</td>\n",
       "      <td>37.34</td>\n",
       "      <td>50.00</td>\n",
       "      <td>27.43</td>\n",
       "    </tr>\n",
       "    <tr>\n",
       "      <th>1</th>\n",
       "      <td>2011-01-01</td>\n",
       "      <td>421.0</td>\n",
       "      <td>23.99</td>\n",
       "      <td>28.27</td>\n",
       "      <td>24.23</td>\n",
       "      <td>32.78</td>\n",
       "      <td>29.93</td>\n",
       "      <td>26.13</td>\n",
       "      <td>25.65</td>\n",
       "      <td>31.12</td>\n",
       "      <td>34.68</td>\n",
       "      <td>36.82</td>\n",
       "      <td>14.96</td>\n",
       "      <td>NaN</td>\n",
       "    </tr>\n",
       "    <tr>\n",
       "      <th>2</th>\n",
       "      <td>2011-02-01</td>\n",
       "      <td>380.0</td>\n",
       "      <td>24.74</td>\n",
       "      <td>19.21</td>\n",
       "      <td>27.89</td>\n",
       "      <td>26.84</td>\n",
       "      <td>24.74</td>\n",
       "      <td>25.53</td>\n",
       "      <td>28.16</td>\n",
       "      <td>25.79</td>\n",
       "      <td>31.32</td>\n",
       "      <td>9.21</td>\n",
       "      <td>NaN</td>\n",
       "      <td>NaN</td>\n",
       "    </tr>\n",
       "    <tr>\n",
       "      <th>3</th>\n",
       "      <td>2011-03-01</td>\n",
       "      <td>440.0</td>\n",
       "      <td>19.09</td>\n",
       "      <td>25.45</td>\n",
       "      <td>21.82</td>\n",
       "      <td>23.18</td>\n",
       "      <td>17.73</td>\n",
       "      <td>26.36</td>\n",
       "      <td>23.86</td>\n",
       "      <td>28.86</td>\n",
       "      <td>8.86</td>\n",
       "      <td>NaN</td>\n",
       "      <td>NaN</td>\n",
       "      <td>NaN</td>\n",
       "    </tr>\n",
       "    <tr>\n",
       "      <th>4</th>\n",
       "      <td>2011-04-01</td>\n",
       "      <td>299.0</td>\n",
       "      <td>22.74</td>\n",
       "      <td>22.07</td>\n",
       "      <td>21.07</td>\n",
       "      <td>20.74</td>\n",
       "      <td>23.75</td>\n",
       "      <td>23.08</td>\n",
       "      <td>26.09</td>\n",
       "      <td>8.36</td>\n",
       "      <td>NaN</td>\n",
       "      <td>NaN</td>\n",
       "      <td>NaN</td>\n",
       "      <td>NaN</td>\n",
       "    </tr>\n",
       "    <tr>\n",
       "      <th>5</th>\n",
       "      <td>2011-05-01</td>\n",
       "      <td>279.0</td>\n",
       "      <td>23.66</td>\n",
       "      <td>17.20</td>\n",
       "      <td>17.20</td>\n",
       "      <td>21.51</td>\n",
       "      <td>24.37</td>\n",
       "      <td>26.52</td>\n",
       "      <td>10.39</td>\n",
       "      <td>NaN</td>\n",
       "      <td>NaN</td>\n",
       "      <td>NaN</td>\n",
       "      <td>NaN</td>\n",
       "      <td>NaN</td>\n",
       "    </tr>\n",
       "    <tr>\n",
       "      <th>6</th>\n",
       "      <td>2011-06-01</td>\n",
       "      <td>235.0</td>\n",
       "      <td>20.85</td>\n",
       "      <td>18.72</td>\n",
       "      <td>27.23</td>\n",
       "      <td>24.68</td>\n",
       "      <td>33.62</td>\n",
       "      <td>10.21</td>\n",
       "      <td>NaN</td>\n",
       "      <td>NaN</td>\n",
       "      <td>NaN</td>\n",
       "      <td>NaN</td>\n",
       "      <td>NaN</td>\n",
       "      <td>NaN</td>\n",
       "    </tr>\n",
       "    <tr>\n",
       "      <th>7</th>\n",
       "      <td>2011-07-01</td>\n",
       "      <td>191.0</td>\n",
       "      <td>20.94</td>\n",
       "      <td>20.42</td>\n",
       "      <td>23.04</td>\n",
       "      <td>27.23</td>\n",
       "      <td>11.52</td>\n",
       "      <td>NaN</td>\n",
       "      <td>NaN</td>\n",
       "      <td>NaN</td>\n",
       "      <td>NaN</td>\n",
       "      <td>NaN</td>\n",
       "      <td>NaN</td>\n",
       "      <td>NaN</td>\n",
       "    </tr>\n",
       "    <tr>\n",
       "      <th>8</th>\n",
       "      <td>2011-08-01</td>\n",
       "      <td>167.0</td>\n",
       "      <td>25.15</td>\n",
       "      <td>25.15</td>\n",
       "      <td>25.15</td>\n",
       "      <td>13.77</td>\n",
       "      <td>NaN</td>\n",
       "      <td>NaN</td>\n",
       "      <td>NaN</td>\n",
       "      <td>NaN</td>\n",
       "      <td>NaN</td>\n",
       "      <td>NaN</td>\n",
       "      <td>NaN</td>\n",
       "      <td>NaN</td>\n",
       "    </tr>\n",
       "    <tr>\n",
       "      <th>9</th>\n",
       "      <td>2011-09-01</td>\n",
       "      <td>298.0</td>\n",
       "      <td>29.87</td>\n",
       "      <td>32.55</td>\n",
       "      <td>12.08</td>\n",
       "      <td>NaN</td>\n",
       "      <td>NaN</td>\n",
       "      <td>NaN</td>\n",
       "      <td>NaN</td>\n",
       "      <td>NaN</td>\n",
       "      <td>NaN</td>\n",
       "      <td>NaN</td>\n",
       "      <td>NaN</td>\n",
       "      <td>NaN</td>\n",
       "    </tr>\n",
       "    <tr>\n",
       "      <th>10</th>\n",
       "      <td>2011-10-01</td>\n",
       "      <td>352.0</td>\n",
       "      <td>26.42</td>\n",
       "      <td>13.07</td>\n",
       "      <td>NaN</td>\n",
       "      <td>NaN</td>\n",
       "      <td>NaN</td>\n",
       "      <td>NaN</td>\n",
       "      <td>NaN</td>\n",
       "      <td>NaN</td>\n",
       "      <td>NaN</td>\n",
       "      <td>NaN</td>\n",
       "      <td>NaN</td>\n",
       "      <td>NaN</td>\n",
       "    </tr>\n",
       "    <tr>\n",
       "      <th>11</th>\n",
       "      <td>2011-11-01</td>\n",
       "      <td>321.0</td>\n",
       "      <td>13.40</td>\n",
       "      <td>NaN</td>\n",
       "      <td>NaN</td>\n",
       "      <td>NaN</td>\n",
       "      <td>NaN</td>\n",
       "      <td>NaN</td>\n",
       "      <td>NaN</td>\n",
       "      <td>NaN</td>\n",
       "      <td>NaN</td>\n",
       "      <td>NaN</td>\n",
       "      <td>NaN</td>\n",
       "      <td>NaN</td>\n",
       "    </tr>\n",
       "    <tr>\n",
       "      <th>12</th>\n",
       "      <td>2011-12-01</td>\n",
       "      <td>41.0</td>\n",
       "      <td>NaN</td>\n",
       "      <td>NaN</td>\n",
       "      <td>NaN</td>\n",
       "      <td>NaN</td>\n",
       "      <td>NaN</td>\n",
       "      <td>NaN</td>\n",
       "      <td>NaN</td>\n",
       "      <td>NaN</td>\n",
       "      <td>NaN</td>\n",
       "      <td>NaN</td>\n",
       "      <td>NaN</td>\n",
       "      <td>NaN</td>\n",
       "    </tr>\n",
       "  </tbody>\n",
       "</table>\n",
       "</div>"
      ],
      "text/plain": [
       "MonthDifference     Cohort      0      1      2      3      4      5      6  \\\n",
       "0               2010-12-01  948.0  38.19  33.44  38.71  35.97  39.66  37.97   \n",
       "1               2011-01-01  421.0  23.99  28.27  24.23  32.78  29.93  26.13   \n",
       "2               2011-02-01  380.0  24.74  19.21  27.89  26.84  24.74  25.53   \n",
       "3               2011-03-01  440.0  19.09  25.45  21.82  23.18  17.73  26.36   \n",
       "4               2011-04-01  299.0  22.74  22.07  21.07  20.74  23.75  23.08   \n",
       "5               2011-05-01  279.0  23.66  17.20  17.20  21.51  24.37  26.52   \n",
       "6               2011-06-01  235.0  20.85  18.72  27.23  24.68  33.62  10.21   \n",
       "7               2011-07-01  191.0  20.94  20.42  23.04  27.23  11.52    NaN   \n",
       "8               2011-08-01  167.0  25.15  25.15  25.15  13.77    NaN    NaN   \n",
       "9               2011-09-01  298.0  29.87  32.55  12.08    NaN    NaN    NaN   \n",
       "10              2011-10-01  352.0  26.42  13.07    NaN    NaN    NaN    NaN   \n",
       "11              2011-11-01  321.0  13.40    NaN    NaN    NaN    NaN    NaN   \n",
       "12              2011-12-01   41.0    NaN    NaN    NaN    NaN    NaN    NaN   \n",
       "\n",
       "MonthDifference      7      8      9     10     11     12  \n",
       "0                35.44  35.44  39.45  37.34  50.00  27.43  \n",
       "1                25.65  31.12  34.68  36.82  14.96    NaN  \n",
       "2                28.16  25.79  31.32   9.21    NaN    NaN  \n",
       "3                23.86  28.86   8.86    NaN    NaN    NaN  \n",
       "4                26.09   8.36    NaN    NaN    NaN    NaN  \n",
       "5                10.39    NaN    NaN    NaN    NaN    NaN  \n",
       "6                  NaN    NaN    NaN    NaN    NaN    NaN  \n",
       "7                  NaN    NaN    NaN    NaN    NaN    NaN  \n",
       "8                  NaN    NaN    NaN    NaN    NaN    NaN  \n",
       "9                  NaN    NaN    NaN    NaN    NaN    NaN  \n",
       "10                 NaN    NaN    NaN    NaN    NaN    NaN  \n",
       "11                 NaN    NaN    NaN    NaN    NaN    NaN  \n",
       "12                 NaN    NaN    NaN    NaN    NaN    NaN  "
      ]
     },
     "execution_count": 85,
     "metadata": {},
     "output_type": "execute_result"
    }
   ],
   "source": [
    "for i in reten.columns:\n",
    "    if (i=='Cohort')|(i==0):\n",
    "        pass\n",
    "    else:\n",
    "        \n",
    "        reten[i] = np.round((reten[i]*100)/reten[0],2)\n",
    "reten"
   ]
  },
  {
   "cell_type": "markdown",
   "metadata": {},
   "source": [
    "## Feature Engineering"
   ]
  },
  {
   "cell_type": "markdown",
   "metadata": {},
   "source": [
    "1) RFM Features - Recency, Tenure, Frequency, Monetary\n",
    "\n",
    "2) Product Diversity - No. of Products Purchased \n",
    "\n",
    "3) Behavioural Features -Average Days Between Purchases, Favorite Day for Shopping\n",
    "\n",
    "4) Georgraphical Features - Is from UK or not\n",
    "\n",
    "5) Cancellation Features - Cancelled Flag, No. of cancelled orders"
   ]
  },
  {
   "cell_type": "code",
   "execution_count": 39,
   "metadata": {},
   "outputs": [],
   "source": [
    "df['days_since_purchase'] = (df['InvoiceDate'].max() - df['InvoiceDate']).dt.days\n"
   ]
  },
  {
   "cell_type": "code",
   "execution_count": 40,
   "metadata": {},
   "outputs": [],
   "source": [
    "Customer_age = df.groupby(['CustomerID']).agg({'days_since_purchase': 'max'}).reset_index().rename(columns={'days_since_purchase':'Customer_Age_within_store'})\n"
   ]
  },
  {
   "cell_type": "code",
   "execution_count": 41,
   "metadata": {},
   "outputs": [],
   "source": [
    "Most_frequent_transcation = df.groupby(['CustomerID']).agg({'days_since_purchase': 'min'}).reset_index().rename(columns={'days_since_purchase':'Recency'})\n"
   ]
  },
  {
   "cell_type": "code",
   "execution_count": 42,
   "metadata": {},
   "outputs": [],
   "source": [
    "Net_sales_customer = df.groupby(['CustomerID']).agg({'Sales': 'sum'}).reset_index().rename(columns={'Sales':'Monetary'})\n"
   ]
  },
  {
   "cell_type": "code",
   "execution_count": 43,
   "metadata": {},
   "outputs": [],
   "source": [
    "Frequency = df.groupby(['CustomerID']).agg({'InvoiceNo': 'count'}).reset_index().rename(columns={'InvoiceNo':'Frequency'})\n"
   ]
  },
  {
   "cell_type": "code",
   "execution_count": 44,
   "metadata": {},
   "outputs": [],
   "source": [
    "df = df.merge(Customer_age,how='left',on = ['CustomerID']).merge(Most_frequent_transcation,how='left',on = ['CustomerID']).merge(Net_sales_customer,how='left',on = ['CustomerID']).merge(Frequency,how='left',on = ['CustomerID'])"
   ]
  },
  {
   "cell_type": "code",
   "execution_count": 45,
   "metadata": {},
   "outputs": [],
   "source": [
    "cancelled_orders = lambda x: 1 if x < 0 else 0\n",
    "df['canc_order'] = df['Quantity'].apply(cancelled_orders)"
   ]
  },
  {
   "cell_type": "code",
   "execution_count": 46,
   "metadata": {},
   "outputs": [],
   "source": [
    "cancelled_order = df.groupby(['CustomerID']).agg({'canc_order': 'sum'}).reset_index().rename(columns={'canc_order':'No. of cancelled orders'})\n"
   ]
  },
  {
   "cell_type": "code",
   "execution_count": 47,
   "metadata": {},
   "outputs": [],
   "source": [
    "df = df.merge(cancelled_order,how='left',on = ['CustomerID'])"
   ]
  },
  {
   "cell_type": "code",
   "execution_count": 48,
   "metadata": {},
   "outputs": [
    {
     "data": {
      "text/plain": [
       "(406829, 21)"
      ]
     },
     "execution_count": 48,
     "metadata": {},
     "output_type": "execute_result"
    }
   ],
   "source": [
    "df.shape"
   ]
  },
  {
   "cell_type": "code",
   "execution_count": 49,
   "metadata": {},
   "outputs": [
    {
     "data": {
      "text/plain": [
       "0.021888803403887137"
      ]
     },
     "execution_count": 49,
     "metadata": {},
     "output_type": "execute_result"
    }
   ],
   "source": [
    "df['canc_order'].sum()/df['canc_order'].count()"
   ]
  },
  {
   "cell_type": "code",
   "execution_count": 50,
   "metadata": {},
   "outputs": [
    {
     "data": {
      "text/plain": [
       "406829"
      ]
     },
     "execution_count": 50,
     "metadata": {},
     "output_type": "execute_result"
    }
   ],
   "source": [
    "df['canc_order'].count()"
   ]
  },
  {
   "cell_type": "code",
   "execution_count": 51,
   "metadata": {},
   "outputs": [],
   "source": [
    "#df[df['No. of cancelled orders']=='C536379']"
   ]
  },
  {
   "cell_type": "code",
   "execution_count": 52,
   "metadata": {},
   "outputs": [],
   "source": [
    "# sns.kdeplot(data=df, x='No. of cancelled orders', shade=True)\n",
    "# plt.xlabel('Cancelled Orders')\n",
    "# plt.ylabel('Density')\n",
    "# plt.title('Density Plot of Cancelled Orders')\n",
    "# plt.xticks([0, 1], ['Non-cancelled', 'Cancelled'])\n",
    "# plt.show()\n"
   ]
  },
  {
   "cell_type": "code",
   "execution_count": 53,
   "metadata": {},
   "outputs": [],
   "source": [
    "df['Actual_Frequency'] = df['Frequency'] - df['No. of cancelled orders']"
   ]
  },
  {
   "cell_type": "code",
   "execution_count": 54,
   "metadata": {},
   "outputs": [],
   "source": [
    "df['AOV'] = df['Monetary']/df['Actual_Frequency']"
   ]
  },
  {
   "cell_type": "code",
   "execution_count": 55,
   "metadata": {},
   "outputs": [],
   "source": [
    "#df[df['CustomerID']==14056.0]"
   ]
  },
  {
   "cell_type": "code",
   "execution_count": 56,
   "metadata": {},
   "outputs": [
    {
     "data": {
      "text/plain": [
       "count    4.068290e+05\n",
       "mean             -inf\n",
       "std               NaN\n",
       "min              -inf\n",
       "25%      6.881761e+00\n",
       "50%      1.493914e+01\n",
       "75%      2.129471e+01\n",
       "max      3.861000e+03\n",
       "Name: AOV, dtype: float64"
      ]
     },
     "execution_count": 56,
     "metadata": {},
     "output_type": "execute_result"
    }
   ],
   "source": [
    "df['AOV'].describe()"
   ]
  },
  {
   "cell_type": "code",
   "execution_count": 57,
   "metadata": {},
   "outputs": [
    {
     "data": {
      "text/plain": [
       "4372"
      ]
     },
     "execution_count": 57,
     "metadata": {},
     "output_type": "execute_result"
    }
   ],
   "source": [
    "df['CustomerID'].nunique()"
   ]
  },
  {
   "cell_type": "code",
   "execution_count": 58,
   "metadata": {},
   "outputs": [
    {
     "data": {
      "text/plain": [
       "3684"
      ]
     },
     "execution_count": 58,
     "metadata": {},
     "output_type": "execute_result"
    }
   ],
   "source": [
    "df['StockCode'].nunique()"
   ]
  },
  {
   "cell_type": "code",
   "execution_count": 59,
   "metadata": {},
   "outputs": [
    {
     "data": {
      "text/plain": [
       "22190"
      ]
     },
     "execution_count": 59,
     "metadata": {},
     "output_type": "execute_result"
    }
   ],
   "source": [
    "df['InvoiceNo'].nunique()"
   ]
  },
  {
   "cell_type": "code",
   "execution_count": 60,
   "metadata": {},
   "outputs": [
    {
     "data": {
      "text/html": [
       "<div>\n",
       "<style scoped>\n",
       "    .dataframe tbody tr th:only-of-type {\n",
       "        vertical-align: middle;\n",
       "    }\n",
       "\n",
       "    .dataframe tbody tr th {\n",
       "        vertical-align: top;\n",
       "    }\n",
       "\n",
       "    .dataframe thead th {\n",
       "        text-align: right;\n",
       "    }\n",
       "</style>\n",
       "<table border=\"1\" class=\"dataframe\">\n",
       "  <thead>\n",
       "    <tr style=\"text-align: right;\">\n",
       "      <th></th>\n",
       "      <th>InvoiceNo</th>\n",
       "      <th>StockCode</th>\n",
       "      <th>Description</th>\n",
       "      <th>Quantity</th>\n",
       "      <th>InvoiceDate</th>\n",
       "      <th>UnitPrice</th>\n",
       "      <th>CustomerID</th>\n",
       "      <th>Country</th>\n",
       "      <th>Year</th>\n",
       "      <th>Month</th>\n",
       "      <th>...</th>\n",
       "      <th>Sales</th>\n",
       "      <th>days_since_purchase</th>\n",
       "      <th>Customer_Age_within_store</th>\n",
       "      <th>Recency</th>\n",
       "      <th>Monetary</th>\n",
       "      <th>Frequency</th>\n",
       "      <th>canc_order</th>\n",
       "      <th>No. of cancelled orders</th>\n",
       "      <th>Actual_Frequency</th>\n",
       "      <th>AOV</th>\n",
       "    </tr>\n",
       "  </thead>\n",
       "  <tbody>\n",
       "    <tr>\n",
       "      <th>38120</th>\n",
       "      <td>541431</td>\n",
       "      <td>23166</td>\n",
       "      <td>MEDIUM CERAMIC TOP STORAGE JAR</td>\n",
       "      <td>74215</td>\n",
       "      <td>2011-01-18 10:01:00</td>\n",
       "      <td>1.04</td>\n",
       "      <td>12346.0</td>\n",
       "      <td>United Kingdom</td>\n",
       "      <td>2011</td>\n",
       "      <td>1</td>\n",
       "      <td>...</td>\n",
       "      <td>77183.6</td>\n",
       "      <td>325</td>\n",
       "      <td>325</td>\n",
       "      <td>325</td>\n",
       "      <td>0.0</td>\n",
       "      <td>2</td>\n",
       "      <td>0</td>\n",
       "      <td>1</td>\n",
       "      <td>1</td>\n",
       "      <td>0.0</td>\n",
       "    </tr>\n",
       "    <tr>\n",
       "      <th>38125</th>\n",
       "      <td>C541433</td>\n",
       "      <td>23166</td>\n",
       "      <td>MEDIUM CERAMIC TOP STORAGE JAR</td>\n",
       "      <td>-74215</td>\n",
       "      <td>2011-01-18 10:17:00</td>\n",
       "      <td>1.04</td>\n",
       "      <td>12346.0</td>\n",
       "      <td>United Kingdom</td>\n",
       "      <td>2011</td>\n",
       "      <td>1</td>\n",
       "      <td>...</td>\n",
       "      <td>-77183.6</td>\n",
       "      <td>325</td>\n",
       "      <td>325</td>\n",
       "      <td>325</td>\n",
       "      <td>0.0</td>\n",
       "      <td>2</td>\n",
       "      <td>1</td>\n",
       "      <td>1</td>\n",
       "      <td>1</td>\n",
       "      <td>0.0</td>\n",
       "    </tr>\n",
       "  </tbody>\n",
       "</table>\n",
       "<p>2 rows × 23 columns</p>\n",
       "</div>"
      ],
      "text/plain": [
       "      InvoiceNo StockCode                     Description  Quantity  \\\n",
       "38120    541431     23166  MEDIUM CERAMIC TOP STORAGE JAR     74215   \n",
       "38125   C541433     23166  MEDIUM CERAMIC TOP STORAGE JAR    -74215   \n",
       "\n",
       "              InvoiceDate  UnitPrice  CustomerID         Country  Year  Month  \\\n",
       "38120 2011-01-18 10:01:00       1.04     12346.0  United Kingdom  2011      1   \n",
       "38125 2011-01-18 10:17:00       1.04     12346.0  United Kingdom  2011      1   \n",
       "\n",
       "       ...    Sales days_since_purchase Customer_Age_within_store  Recency  \\\n",
       "38120  ...  77183.6                 325                       325      325   \n",
       "38125  ... -77183.6                 325                       325      325   \n",
       "\n",
       "       Monetary  Frequency  canc_order  No. of cancelled orders  \\\n",
       "38120       0.0          2           0                        1   \n",
       "38125       0.0          2           1                        1   \n",
       "\n",
       "       Actual_Frequency  AOV  \n",
       "38120                 1  0.0  \n",
       "38125                 1  0.0  \n",
       "\n",
       "[2 rows x 23 columns]"
      ]
     },
     "execution_count": 60,
     "metadata": {},
     "output_type": "execute_result"
    }
   ],
   "source": [
    "df[(df['CustomerID'] == 12346)]\n"
   ]
  },
  {
   "cell_type": "code",
   "execution_count": 61,
   "metadata": {},
   "outputs": [],
   "source": [
    "unique_products = df.groupby('CustomerID').agg({'StockCode':'nunique'}).reset_index().rename(columns={'StockCode':'UniqueProducts'})"
   ]
  },
  {
   "cell_type": "code",
   "execution_count": 62,
   "metadata": {},
   "outputs": [],
   "source": [
    "df = df.merge(unique_products,how='left',on = ['CustomerID'])"
   ]
  },
  {
   "cell_type": "code",
   "execution_count": 63,
   "metadata": {},
   "outputs": [],
   "source": [
    "df['Average_Purchase_Time'] = df['Customer_Age_within_store']/df['Actual_Frequency']"
   ]
  },
  {
   "cell_type": "code",
   "execution_count": 64,
   "metadata": {},
   "outputs": [],
   "source": [
    "df['UK_Flag']  = np.where(df['Country'] == 'United Kingdom',1,0)"
   ]
  },
  {
   "cell_type": "code",
   "execution_count": 65,
   "metadata": {},
   "outputs": [
    {
     "data": {
      "text/plain": [
       "Index(['InvoiceNo', 'StockCode', 'Description', 'Quantity', 'InvoiceDate',\n",
       "       'UnitPrice', 'CustomerID', 'Country', 'Year', 'Month', 'Day',\n",
       "       'DayOfWeek', 'YearMonth', 'Sales', 'days_since_purchase',\n",
       "       'Customer_Age_within_store', 'Recency', 'Monetary', 'Frequency',\n",
       "       'canc_order', 'No. of cancelled orders', 'Actual_Frequency', 'AOV',\n",
       "       'UniqueProducts', 'Average_Purchase_Time', 'UK_Flag'],\n",
       "      dtype='object')"
      ]
     },
     "execution_count": 65,
     "metadata": {},
     "output_type": "execute_result"
    }
   ],
   "source": [
    "df.columns"
   ]
  },
  {
   "cell_type": "code",
   "execution_count": 66,
   "metadata": {},
   "outputs": [
    {
     "data": {
      "text/html": [
       "<div>\n",
       "<style scoped>\n",
       "    .dataframe tbody tr th:only-of-type {\n",
       "        vertical-align: middle;\n",
       "    }\n",
       "\n",
       "    .dataframe tbody tr th {\n",
       "        vertical-align: top;\n",
       "    }\n",
       "\n",
       "    .dataframe thead th {\n",
       "        text-align: right;\n",
       "    }\n",
       "</style>\n",
       "<table border=\"1\" class=\"dataframe\">\n",
       "  <thead>\n",
       "    <tr style=\"text-align: right;\">\n",
       "      <th></th>\n",
       "      <th>InvoiceNo</th>\n",
       "      <th>StockCode</th>\n",
       "      <th>Description</th>\n",
       "      <th>Quantity</th>\n",
       "      <th>InvoiceDate</th>\n",
       "      <th>UnitPrice</th>\n",
       "      <th>CustomerID</th>\n",
       "      <th>Country</th>\n",
       "      <th>Year</th>\n",
       "      <th>Month</th>\n",
       "      <th>...</th>\n",
       "      <th>Recency</th>\n",
       "      <th>Monetary</th>\n",
       "      <th>Frequency</th>\n",
       "      <th>canc_order</th>\n",
       "      <th>No. of cancelled orders</th>\n",
       "      <th>Actual_Frequency</th>\n",
       "      <th>AOV</th>\n",
       "      <th>UniqueProducts</th>\n",
       "      <th>Average_Purchase_Time</th>\n",
       "      <th>UK_Flag</th>\n",
       "    </tr>\n",
       "  </thead>\n",
       "  <tbody>\n",
       "    <tr>\n",
       "      <th>299471</th>\n",
       "      <td>571475</td>\n",
       "      <td>21914</td>\n",
       "      <td>BLUE HARMONICA IN BOX</td>\n",
       "      <td>2</td>\n",
       "      <td>2011-10-17 14:42:00</td>\n",
       "      <td>1.25</td>\n",
       "      <td>15033.0</td>\n",
       "      <td>United Kingdom</td>\n",
       "      <td>2011</td>\n",
       "      <td>10</td>\n",
       "      <td>...</td>\n",
       "      <td>4</td>\n",
       "      <td>2571.02</td>\n",
       "      <td>513</td>\n",
       "      <td>0</td>\n",
       "      <td>3</td>\n",
       "      <td>510</td>\n",
       "      <td>5.041216</td>\n",
       "      <td>315</td>\n",
       "      <td>0.643137</td>\n",
       "      <td>1</td>\n",
       "    </tr>\n",
       "    <tr>\n",
       "      <th>66633</th>\n",
       "      <td>544939</td>\n",
       "      <td>85049G</td>\n",
       "      <td>CHOCOLATE BOX RIBBONS</td>\n",
       "      <td>12</td>\n",
       "      <td>2011-02-25 10:10:00</td>\n",
       "      <td>1.25</td>\n",
       "      <td>17034.0</td>\n",
       "      <td>United Kingdom</td>\n",
       "      <td>2011</td>\n",
       "      <td>2</td>\n",
       "      <td>...</td>\n",
       "      <td>15</td>\n",
       "      <td>734.57</td>\n",
       "      <td>32</td>\n",
       "      <td>0</td>\n",
       "      <td>2</td>\n",
       "      <td>30</td>\n",
       "      <td>24.485667</td>\n",
       "      <td>28</td>\n",
       "      <td>9.566667</td>\n",
       "      <td>1</td>\n",
       "    </tr>\n",
       "    <tr>\n",
       "      <th>51705</th>\n",
       "      <td>543126</td>\n",
       "      <td>21974</td>\n",
       "      <td>SET OF 36 PAISLEY FLOWER DOILIES</td>\n",
       "      <td>1</td>\n",
       "      <td>2011-02-03 14:41:00</td>\n",
       "      <td>1.45</td>\n",
       "      <td>13581.0</td>\n",
       "      <td>United Kingdom</td>\n",
       "      <td>2011</td>\n",
       "      <td>2</td>\n",
       "      <td>...</td>\n",
       "      <td>308</td>\n",
       "      <td>118.00</td>\n",
       "      <td>10</td>\n",
       "      <td>0</td>\n",
       "      <td>0</td>\n",
       "      <td>10</td>\n",
       "      <td>11.800000</td>\n",
       "      <td>10</td>\n",
       "      <td>30.800000</td>\n",
       "      <td>1</td>\n",
       "    </tr>\n",
       "  </tbody>\n",
       "</table>\n",
       "<p>3 rows × 26 columns</p>\n",
       "</div>"
      ],
      "text/plain": [
       "       InvoiceNo StockCode                       Description  Quantity  \\\n",
       "299471    571475     21914            BLUE HARMONICA IN BOX          2   \n",
       "66633     544939    85049G            CHOCOLATE BOX RIBBONS         12   \n",
       "51705     543126     21974  SET OF 36 PAISLEY FLOWER DOILIES         1   \n",
       "\n",
       "               InvoiceDate  UnitPrice  CustomerID         Country  Year  \\\n",
       "299471 2011-10-17 14:42:00       1.25     15033.0  United Kingdom  2011   \n",
       "66633  2011-02-25 10:10:00       1.25     17034.0  United Kingdom  2011   \n",
       "51705  2011-02-03 14:41:00       1.45     13581.0  United Kingdom  2011   \n",
       "\n",
       "        Month  ...  Recency Monetary Frequency  canc_order  \\\n",
       "299471     10  ...        4  2571.02       513           0   \n",
       "66633       2  ...       15   734.57        32           0   \n",
       "51705       2  ...      308   118.00        10           0   \n",
       "\n",
       "        No. of cancelled orders  Actual_Frequency        AOV  UniqueProducts  \\\n",
       "299471                        3               510   5.041216             315   \n",
       "66633                         2                30  24.485667              28   \n",
       "51705                         0                10  11.800000              10   \n",
       "\n",
       "        Average_Purchase_Time  UK_Flag  \n",
       "299471               0.643137        1  \n",
       "66633                9.566667        1  \n",
       "51705               30.800000        1  \n",
       "\n",
       "[3 rows x 26 columns]"
      ]
     },
     "execution_count": 66,
     "metadata": {},
     "output_type": "execute_result"
    }
   ],
   "source": [
    "df.sample(3)"
   ]
  },
  {
   "cell_type": "code",
   "execution_count": 67,
   "metadata": {},
   "outputs": [],
   "source": [
    "df_sub = df[['CustomerID','Customer_Age_within_store', 'Recency', 'Monetary', 'Frequency','No. of cancelled orders','Actual_Frequency','AOV',\n",
    "       'UniqueProducts', 'Average_Purchase_Time', 'UK_Flag']]"
   ]
  },
  {
   "cell_type": "code",
   "execution_count": 68,
   "metadata": {},
   "outputs": [
    {
     "data": {
      "text/plain": [
       "(406829, 11)"
      ]
     },
     "execution_count": 68,
     "metadata": {},
     "output_type": "execute_result"
    }
   ],
   "source": [
    "df_sub.shape"
   ]
  },
  {
   "cell_type": "code",
   "execution_count": 69,
   "metadata": {},
   "outputs": [],
   "source": [
    "df_sub = df_sub.drop_duplicates()"
   ]
  },
  {
   "cell_type": "code",
   "execution_count": 70,
   "metadata": {},
   "outputs": [
    {
     "data": {
      "text/plain": [
       "(4372, 11)"
      ]
     },
     "execution_count": 70,
     "metadata": {},
     "output_type": "execute_result"
    }
   ],
   "source": [
    "df_sub.shape"
   ]
  },
  {
   "cell_type": "code",
   "execution_count": 71,
   "metadata": {},
   "outputs": [
    {
     "data": {
      "text/plain": [
       "CustomerID\n",
       "17850.0    1\n",
       "16050.0    1\n",
       "14820.0    1\n",
       "13568.0    1\n",
       "12450.0    1\n",
       "          ..\n",
       "17105.0    1\n",
       "14438.0    1\n",
       "12956.0    1\n",
       "15781.0    1\n",
       "12713.0    1\n",
       "Name: count, Length: 4372, dtype: int64"
      ]
     },
     "execution_count": 71,
     "metadata": {},
     "output_type": "execute_result"
    }
   ],
   "source": [
    "df_sub['CustomerID'].value_counts()"
   ]
  },
  {
   "cell_type": "code",
   "execution_count": 73,
   "metadata": {},
   "outputs": [],
   "source": [
    "## Features Made, Tenure, Recency, Frequency, Monetary, AOV, Cancelled Orders Flag, No. of cancelled orders, Unique Products brought,  Day Preferred,Average "
   ]
  },
  {
   "cell_type": "markdown",
   "metadata": {},
   "source": [
    "## Correlation"
   ]
  },
  {
   "cell_type": "code",
   "execution_count": 86,
   "metadata": {},
   "outputs": [
    {
     "data": {
      "text/html": [
       "<div>\n",
       "<style scoped>\n",
       "    .dataframe tbody tr th:only-of-type {\n",
       "        vertical-align: middle;\n",
       "    }\n",
       "\n",
       "    .dataframe tbody tr th {\n",
       "        vertical-align: top;\n",
       "    }\n",
       "\n",
       "    .dataframe thead th {\n",
       "        text-align: right;\n",
       "    }\n",
       "</style>\n",
       "<table border=\"1\" class=\"dataframe\">\n",
       "  <thead>\n",
       "    <tr style=\"text-align: right;\">\n",
       "      <th></th>\n",
       "      <th>CustomerID</th>\n",
       "      <th>Customer_Age_within_store</th>\n",
       "      <th>Recency</th>\n",
       "      <th>Monetary</th>\n",
       "      <th>Frequency</th>\n",
       "      <th>No. of cancelled orders</th>\n",
       "      <th>Actual_Frequency</th>\n",
       "      <th>AOV</th>\n",
       "      <th>UniqueProducts</th>\n",
       "      <th>Average_Purchase_Time</th>\n",
       "      <th>UK_Flag</th>\n",
       "    </tr>\n",
       "  </thead>\n",
       "  <tbody>\n",
       "    <tr>\n",
       "      <th>76161</th>\n",
       "      <td>14507.0</td>\n",
       "      <td>275</td>\n",
       "      <td>23</td>\n",
       "      <td>1368.18</td>\n",
       "      <td>98</td>\n",
       "      <td>2</td>\n",
       "      <td>96</td>\n",
       "      <td>14.251875</td>\n",
       "      <td>79</td>\n",
       "      <td>2.864583</td>\n",
       "      <td>1</td>\n",
       "    </tr>\n",
       "    <tr>\n",
       "      <th>10069</th>\n",
       "      <td>14733.0</td>\n",
       "      <td>367</td>\n",
       "      <td>8</td>\n",
       "      <td>9451.54</td>\n",
       "      <td>216</td>\n",
       "      <td>14</td>\n",
       "      <td>202</td>\n",
       "      <td>46.789802</td>\n",
       "      <td>102</td>\n",
       "      <td>1.816832</td>\n",
       "      <td>1</td>\n",
       "    </tr>\n",
       "    <tr>\n",
       "      <th>350091</th>\n",
       "      <td>14904.0</td>\n",
       "      <td>25</td>\n",
       "      <td>1</td>\n",
       "      <td>1025.44</td>\n",
       "      <td>69</td>\n",
       "      <td>0</td>\n",
       "      <td>69</td>\n",
       "      <td>14.861449</td>\n",
       "      <td>66</td>\n",
       "      <td>0.362319</td>\n",
       "      <td>1</td>\n",
       "    </tr>\n",
       "  </tbody>\n",
       "</table>\n",
       "</div>"
      ],
      "text/plain": [
       "        CustomerID  Customer_Age_within_store  Recency  Monetary  Frequency  \\\n",
       "76161      14507.0                        275       23   1368.18         98   \n",
       "10069      14733.0                        367        8   9451.54        216   \n",
       "350091     14904.0                         25        1   1025.44         69   \n",
       "\n",
       "        No. of cancelled orders  Actual_Frequency        AOV  UniqueProducts  \\\n",
       "76161                         2                96  14.251875              79   \n",
       "10069                        14               202  46.789802             102   \n",
       "350091                        0                69  14.861449              66   \n",
       "\n",
       "        Average_Purchase_Time  UK_Flag  \n",
       "76161                2.864583        1  \n",
       "10069                1.816832        1  \n",
       "350091               0.362319        1  "
      ]
     },
     "execution_count": 86,
     "metadata": {},
     "output_type": "execute_result"
    }
   ],
   "source": [
    "df_sub.sample(3)"
   ]
  },
  {
   "cell_type": "code",
   "execution_count": 87,
   "metadata": {},
   "outputs": [
    {
     "data": {
      "text/html": [
       "<div>\n",
       "<style scoped>\n",
       "    .dataframe tbody tr th:only-of-type {\n",
       "        vertical-align: middle;\n",
       "    }\n",
       "\n",
       "    .dataframe tbody tr th {\n",
       "        vertical-align: top;\n",
       "    }\n",
       "\n",
       "    .dataframe thead th {\n",
       "        text-align: right;\n",
       "    }\n",
       "</style>\n",
       "<table border=\"1\" class=\"dataframe\">\n",
       "  <thead>\n",
       "    <tr style=\"text-align: right;\">\n",
       "      <th></th>\n",
       "      <th>CustomerID</th>\n",
       "      <th>Customer_Age_within_store</th>\n",
       "      <th>Recency</th>\n",
       "      <th>Monetary</th>\n",
       "      <th>Frequency</th>\n",
       "      <th>No. of cancelled orders</th>\n",
       "      <th>Actual_Frequency</th>\n",
       "      <th>AOV</th>\n",
       "      <th>UniqueProducts</th>\n",
       "      <th>Average_Purchase_Time</th>\n",
       "      <th>UK_Flag</th>\n",
       "    </tr>\n",
       "  </thead>\n",
       "  <tbody>\n",
       "    <tr>\n",
       "      <th>CustomerID</th>\n",
       "      <td>1.000000</td>\n",
       "      <td>0.000660</td>\n",
       "      <td>0.013687</td>\n",
       "      <td>-0.012563</td>\n",
       "      <td>-0.002786</td>\n",
       "      <td>-0.049632</td>\n",
       "      <td>-0.001243</td>\n",
       "      <td>0.013840</td>\n",
       "      <td>-0.008098</td>\n",
       "      <td>0.034696</td>\n",
       "      <td>0.466062</td>\n",
       "    </tr>\n",
       "    <tr>\n",
       "      <th>Customer_Age_within_store</th>\n",
       "      <td>0.000660</td>\n",
       "      <td>1.000000</td>\n",
       "      <td>0.271781</td>\n",
       "      <td>0.151877</td>\n",
       "      <td>0.192581</td>\n",
       "      <td>0.185684</td>\n",
       "      <td>0.190325</td>\n",
       "      <td>0.005431</td>\n",
       "      <td>0.250212</td>\n",
       "      <td>0.137589</td>\n",
       "      <td>0.003982</td>\n",
       "    </tr>\n",
       "    <tr>\n",
       "      <th>Recency</th>\n",
       "      <td>0.013687</td>\n",
       "      <td>0.271781</td>\n",
       "      <td>1.000000</td>\n",
       "      <td>-0.132001</td>\n",
       "      <td>-0.206980</td>\n",
       "      <td>-0.142514</td>\n",
       "      <td>-0.206392</td>\n",
       "      <td>0.018535</td>\n",
       "      <td>-0.302662</td>\n",
       "      <td>0.409731</td>\n",
       "      <td>-0.008034</td>\n",
       "    </tr>\n",
       "    <tr>\n",
       "      <th>Monetary</th>\n",
       "      <td>-0.012563</td>\n",
       "      <td>0.151877</td>\n",
       "      <td>-0.132001</td>\n",
       "      <td>1.000000</td>\n",
       "      <td>0.446622</td>\n",
       "      <td>0.381185</td>\n",
       "      <td>0.442981</td>\n",
       "      <td>0.148840</td>\n",
       "      <td>0.412015</td>\n",
       "      <td>-0.062654</td>\n",
       "      <td>-0.068897</td>\n",
       "    </tr>\n",
       "    <tr>\n",
       "      <th>Frequency</th>\n",
       "      <td>-0.002786</td>\n",
       "      <td>0.192581</td>\n",
       "      <td>-0.206980</td>\n",
       "      <td>0.446622</td>\n",
       "      <td>1.000000</td>\n",
       "      <td>0.610317</td>\n",
       "      <td>0.999675</td>\n",
       "      <td>-0.039546</td>\n",
       "      <td>0.877638</td>\n",
       "      <td>-0.124257</td>\n",
       "      <td>-0.018935</td>\n",
       "    </tr>\n",
       "    <tr>\n",
       "      <th>No. of cancelled orders</th>\n",
       "      <td>-0.049632</td>\n",
       "      <td>0.185684</td>\n",
       "      <td>-0.142514</td>\n",
       "      <td>0.381185</td>\n",
       "      <td>0.610317</td>\n",
       "      <td>1.000000</td>\n",
       "      <td>0.589921</td>\n",
       "      <td>0.001191</td>\n",
       "      <td>0.505114</td>\n",
       "      <td>-0.067779</td>\n",
       "      <td>-0.054079</td>\n",
       "    </tr>\n",
       "    <tr>\n",
       "      <th>Actual_Frequency</th>\n",
       "      <td>-0.001243</td>\n",
       "      <td>0.190325</td>\n",
       "      <td>-0.206392</td>\n",
       "      <td>0.442981</td>\n",
       "      <td>0.999675</td>\n",
       "      <td>0.589921</td>\n",
       "      <td>1.000000</td>\n",
       "      <td>-0.040350</td>\n",
       "      <td>0.878335</td>\n",
       "      <td>-0.124481</td>\n",
       "      <td>-0.017560</td>\n",
       "    </tr>\n",
       "    <tr>\n",
       "      <th>AOV</th>\n",
       "      <td>0.013840</td>\n",
       "      <td>0.005431</td>\n",
       "      <td>0.018535</td>\n",
       "      <td>0.148840</td>\n",
       "      <td>-0.039546</td>\n",
       "      <td>0.001191</td>\n",
       "      <td>-0.040350</td>\n",
       "      <td>1.000000</td>\n",
       "      <td>-0.084866</td>\n",
       "      <td>0.220210</td>\n",
       "      <td>-0.003600</td>\n",
       "    </tr>\n",
       "    <tr>\n",
       "      <th>UniqueProducts</th>\n",
       "      <td>-0.008098</td>\n",
       "      <td>0.250212</td>\n",
       "      <td>-0.302662</td>\n",
       "      <td>0.412015</td>\n",
       "      <td>0.877638</td>\n",
       "      <td>0.505114</td>\n",
       "      <td>0.878335</td>\n",
       "      <td>-0.084866</td>\n",
       "      <td>1.000000</td>\n",
       "      <td>-0.211644</td>\n",
       "      <td>-0.027022</td>\n",
       "    </tr>\n",
       "    <tr>\n",
       "      <th>Average_Purchase_Time</th>\n",
       "      <td>0.034696</td>\n",
       "      <td>0.137589</td>\n",
       "      <td>0.409731</td>\n",
       "      <td>-0.062654</td>\n",
       "      <td>-0.124257</td>\n",
       "      <td>-0.067779</td>\n",
       "      <td>-0.124481</td>\n",
       "      <td>0.220210</td>\n",
       "      <td>-0.211644</td>\n",
       "      <td>1.000000</td>\n",
       "      <td>0.040933</td>\n",
       "    </tr>\n",
       "    <tr>\n",
       "      <th>UK_Flag</th>\n",
       "      <td>0.466062</td>\n",
       "      <td>0.003982</td>\n",
       "      <td>-0.008034</td>\n",
       "      <td>-0.068897</td>\n",
       "      <td>-0.018935</td>\n",
       "      <td>-0.054079</td>\n",
       "      <td>-0.017560</td>\n",
       "      <td>-0.003600</td>\n",
       "      <td>-0.027022</td>\n",
       "      <td>0.040933</td>\n",
       "      <td>1.000000</td>\n",
       "    </tr>\n",
       "  </tbody>\n",
       "</table>\n",
       "</div>"
      ],
      "text/plain": [
       "                           CustomerID  Customer_Age_within_store   Recency  \\\n",
       "CustomerID                   1.000000                   0.000660  0.013687   \n",
       "Customer_Age_within_store    0.000660                   1.000000  0.271781   \n",
       "Recency                      0.013687                   0.271781  1.000000   \n",
       "Monetary                    -0.012563                   0.151877 -0.132001   \n",
       "Frequency                   -0.002786                   0.192581 -0.206980   \n",
       "No. of cancelled orders     -0.049632                   0.185684 -0.142514   \n",
       "Actual_Frequency            -0.001243                   0.190325 -0.206392   \n",
       "AOV                          0.013840                   0.005431  0.018535   \n",
       "UniqueProducts              -0.008098                   0.250212 -0.302662   \n",
       "Average_Purchase_Time        0.034696                   0.137589  0.409731   \n",
       "UK_Flag                      0.466062                   0.003982 -0.008034   \n",
       "\n",
       "                           Monetary  Frequency  No. of cancelled orders  \\\n",
       "CustomerID                -0.012563  -0.002786                -0.049632   \n",
       "Customer_Age_within_store  0.151877   0.192581                 0.185684   \n",
       "Recency                   -0.132001  -0.206980                -0.142514   \n",
       "Monetary                   1.000000   0.446622                 0.381185   \n",
       "Frequency                  0.446622   1.000000                 0.610317   \n",
       "No. of cancelled orders    0.381185   0.610317                 1.000000   \n",
       "Actual_Frequency           0.442981   0.999675                 0.589921   \n",
       "AOV                        0.148840  -0.039546                 0.001191   \n",
       "UniqueProducts             0.412015   0.877638                 0.505114   \n",
       "Average_Purchase_Time     -0.062654  -0.124257                -0.067779   \n",
       "UK_Flag                   -0.068897  -0.018935                -0.054079   \n",
       "\n",
       "                           Actual_Frequency       AOV  UniqueProducts  \\\n",
       "CustomerID                        -0.001243  0.013840       -0.008098   \n",
       "Customer_Age_within_store          0.190325  0.005431        0.250212   \n",
       "Recency                           -0.206392  0.018535       -0.302662   \n",
       "Monetary                           0.442981  0.148840        0.412015   \n",
       "Frequency                          0.999675 -0.039546        0.877638   \n",
       "No. of cancelled orders            0.589921  0.001191        0.505114   \n",
       "Actual_Frequency                   1.000000 -0.040350        0.878335   \n",
       "AOV                               -0.040350  1.000000       -0.084866   \n",
       "UniqueProducts                     0.878335 -0.084866        1.000000   \n",
       "Average_Purchase_Time             -0.124481  0.220210       -0.211644   \n",
       "UK_Flag                           -0.017560 -0.003600       -0.027022   \n",
       "\n",
       "                           Average_Purchase_Time   UK_Flag  \n",
       "CustomerID                              0.034696  0.466062  \n",
       "Customer_Age_within_store               0.137589  0.003982  \n",
       "Recency                                 0.409731 -0.008034  \n",
       "Monetary                               -0.062654 -0.068897  \n",
       "Frequency                              -0.124257 -0.018935  \n",
       "No. of cancelled orders                -0.067779 -0.054079  \n",
       "Actual_Frequency                       -0.124481 -0.017560  \n",
       "AOV                                     0.220210 -0.003600  \n",
       "UniqueProducts                         -0.211644 -0.027022  \n",
       "Average_Purchase_Time                   1.000000  0.040933  \n",
       "UK_Flag                                 0.040933  1.000000  "
      ]
     },
     "execution_count": 87,
     "metadata": {},
     "output_type": "execute_result"
    }
   ],
   "source": [
    "df_sub.corr()"
   ]
  },
  {
   "cell_type": "code",
   "execution_count": 89,
   "metadata": {},
   "outputs": [
    {
     "data": {
      "image/png": "[encoded data removed]",
      "text/plain": [
       "<Figure size 864x720 with 2 Axes>"
      ]
     },
     "metadata": {
      "needs_background": "light"
     },
     "output_type": "display_data"
    }
   ],
   "source": [
    "# Calculate the correlation matrix excluding the 'CustomerID' column\n",
    "from matplotlib.colors import LinearSegmentedColormap\n",
    "\n",
    "corr = df_sub.drop(columns=['CustomerID']).corr()\n",
    "\n",
    "# Define a custom colormap\n",
    "colors = ['#ff6200', '#ffcaa8', 'white', '#ffcaa8', '#ff6200']\n",
    "my_cmap = LinearSegmentedColormap.from_list('custom_map', colors, N=256)\n",
    "\n",
    "# Create a mask to only show the lower triangle of the matrix (since it's mirrored around its \n",
    "# top-left to bottom-right diagonal)\n",
    "mask = np.zeros_like(corr)\n",
    "mask[np.triu_indices_from(mask, k=1)] = True\n",
    "\n",
    "# Plot the heatmap\n",
    "plt.figure(figsize=(12, 10))\n",
    "sns.heatmap(corr, mask=mask, cmap=my_cmap, annot=True, center=0, fmt='.2f', linewidths=2)\n",
    "plt.title('Correlation Matrix', fontsize=14)\n",
    "plt.show()\n"
   ]
  },
  {
   "cell_type": "markdown",
   "metadata": {},
   "source": [
    "## Customer Segmentation"
   ]
  },
  {
   "cell_type": "code",
   "execution_count": 102,
   "metadata": {},
   "outputs": [
    {
     "data": {
      "text/html": [
       "<div>\n",
       "<style scoped>\n",
       "    .dataframe tbody tr th:only-of-type {\n",
       "        vertical-align: middle;\n",
       "    }\n",
       "\n",
       "    .dataframe tbody tr th {\n",
       "        vertical-align: top;\n",
       "    }\n",
       "\n",
       "    .dataframe thead th {\n",
       "        text-align: right;\n",
       "    }\n",
       "</style>\n",
       "<table border=\"1\" class=\"dataframe\">\n",
       "  <thead>\n",
       "    <tr style=\"text-align: right;\">\n",
       "      <th></th>\n",
       "      <th>CustomerID</th>\n",
       "      <th>Customer_Age_within_store</th>\n",
       "      <th>Recency</th>\n",
       "      <th>Monetary</th>\n",
       "      <th>Frequency</th>\n",
       "      <th>No. of cancelled orders</th>\n",
       "      <th>Actual_Frequency</th>\n",
       "      <th>AOV</th>\n",
       "      <th>UniqueProducts</th>\n",
       "      <th>Average_Purchase_Time</th>\n",
       "      <th>UK_Flag</th>\n",
       "    </tr>\n",
       "  </thead>\n",
       "  <tbody>\n",
       "    <tr>\n",
       "      <th>54754</th>\n",
       "      <td>17537.0</td>\n",
       "      <td>302</td>\n",
       "      <td>29</td>\n",
       "      <td>897.62</td>\n",
       "      <td>75</td>\n",
       "      <td>0</td>\n",
       "      <td>75</td>\n",
       "      <td>11.968267</td>\n",
       "      <td>74</td>\n",
       "      <td>4.026667</td>\n",
       "      <td>1</td>\n",
       "    </tr>\n",
       "    <tr>\n",
       "      <th>189163</th>\n",
       "      <td>17948.0</td>\n",
       "      <td>146</td>\n",
       "      <td>146</td>\n",
       "      <td>358.56</td>\n",
       "      <td>1</td>\n",
       "      <td>0</td>\n",
       "      <td>1</td>\n",
       "      <td>358.560000</td>\n",
       "      <td>1</td>\n",
       "      <td>146.000000</td>\n",
       "      <td>1</td>\n",
       "    </tr>\n",
       "    <tr>\n",
       "      <th>111297</th>\n",
       "      <td>13692.0</td>\n",
       "      <td>235</td>\n",
       "      <td>24</td>\n",
       "      <td>1466.87</td>\n",
       "      <td>55</td>\n",
       "      <td>2</td>\n",
       "      <td>53</td>\n",
       "      <td>27.676792</td>\n",
       "      <td>49</td>\n",
       "      <td>4.433962</td>\n",
       "      <td>1</td>\n",
       "    </tr>\n",
       "  </tbody>\n",
       "</table>\n",
       "</div>"
      ],
      "text/plain": [
       "        CustomerID  Customer_Age_within_store  Recency  Monetary  Frequency  \\\n",
       "54754      17537.0                        302       29    897.62         75   \n",
       "189163     17948.0                        146      146    358.56          1   \n",
       "111297     13692.0                        235       24   1466.87         55   \n",
       "\n",
       "        No. of cancelled orders  Actual_Frequency         AOV  UniqueProducts  \\\n",
       "54754                         0                75   11.968267              74   \n",
       "189163                        0                 1  358.560000               1   \n",
       "111297                        2                53   27.676792              49   \n",
       "\n",
       "        Average_Purchase_Time  UK_Flag  \n",
       "54754                4.026667        1  \n",
       "189163             146.000000        1  \n",
       "111297               4.433962        1  "
      ]
     },
     "execution_count": 102,
     "metadata": {},
     "output_type": "execute_result"
    }
   ],
   "source": [
    "df_sub.sample(3)"
   ]
  },
  {
   "cell_type": "code",
   "execution_count": 106,
   "metadata": {},
   "outputs": [
    {
     "name": "stderr",
     "output_type": "stream",
     "text": [
      "C:\\Users\\nahar\\anaconda3\\lib\\site-packages\\sklearn\\cluster\\_kmeans.py:1416: FutureWarning: The default value of `n_init` will change from 10 to 'auto' in 1.4. Set the value of `n_init` explicitly to suppress the warning\n",
      "  super()._check_params_vs_input(X, default_n_init=10)\n"
     ]
    },
    {
     "name": "stdout",
     "output_type": "stream",
     "text": [
      "           Recency       Monetary    Frequency\n",
      "Cluster                                       \n",
      "1        25.660422    5686.229253   286.344262\n",
      "2         9.750000  139291.095000  2113.000000\n",
      "3         5.538462   57077.793077  1733.923077\n",
      "4        99.460885     811.611197    59.876994\n",
      "5        12.100000   22075.540250   459.175000\n",
      "6         0.500000  267963.755000  1259.000000\n"
     ]
    },
    {
     "data": {
      "image/png": "[encoded data removed]",
      "text/plain": [
       "<Figure size 576x432 with 1 Axes>"
      ]
     },
     "metadata": {
      "needs_background": "light"
     },
     "output_type": "display_data"
    }
   ],
   "source": [
    "X = df_sub[['Recency', 'Monetary', 'Frequency']]\n",
    "\n",
    "# Instantiate the K-Means model\n",
    "kmeans = KMeans(n_clusters=6, random_state=42)\n",
    "\n",
    "# Fit the model to the data\n",
    "kmeans.fit(X)\n",
    "\n",
    "# Add cluster assignments to the original dataframe\n",
    "df_sub['Cluster'] = kmeans.labels_\n",
    "\n",
    "# Calculate the cluster centers\n",
    "cluster_centers = pd.DataFrame(kmeans.cluster_centers_, columns=['Recency', 'Monetary', 'Frequency'])\n",
    "cluster_centers.index = cluster_centers.index + 1\n",
    "cluster_centers.index.name = 'Cluster'\n",
    "print(cluster_centers)\n",
    "\n",
    "# Visualize the clusters\n",
    "plt.figure(figsize=(8, 6))\n",
    "plt.scatter(X['Recency'], X['Monetary'], c=df_sub['Cluster'], cmap='viridis')\n",
    "plt.scatter(cluster_centers['Recency'], cluster_centers['Monetary'], c='r', marker='x', s=100)\n",
    "plt.title('Customer Segmentation')\n",
    "plt.xlabel('Recency')\n",
    "plt.ylabel('Monetary')\n",
    "plt.show()\n"
   ]
  },
  {
   "cell_type": "code",
   "execution_count": 107,
   "metadata": {},
   "outputs": [],
   "source": [
    "def get_rfm_scores(dataframe) -> pd.core.frame.DataFrame:\n",
    "    df_ = dataframe.copy()\n",
    "    df_[\"Recency_Score\"] = pd.qcut(df_[\"Recency\"], 5, labels=[5, 4, 3, 2, 1])\n",
    "    df_[\"Frequency_Score\"] = pd.qcut(\n",
    "        df_[\"Actual_Frequency\"].rank(method=\"first\"), 5, labels=[1, 2, 3, 4, 5]\n",
    "    )\n",
    "    df_[\"Monetary_Score\"] = pd.qcut(df_[\"Monetary\"], 5, labels=[1, 2, 3, 4, 5])\n",
    "    df_[\"RFM_SCORE\"] = (\n",
    "        df_[\"Recency_Score\"].astype(str)\n",
    "        + df_[\"Frequency_Score\"].astype(str)\n",
    "        + df_[\"Monetary_Score\"].astype(str)\n",
    "    )\n",
    "\n",
    "    return df_\n",
    "\n",
    "# Apply the function to your dataframe\n",
    "rfm = get_rfm_scores(df_sub)"
   ]
  },
  {
   "cell_type": "code",
   "execution_count": 112,
   "metadata": {},
   "outputs": [
    {
     "data": {
      "text/html": [
       "<div>\n",
       "<style scoped>\n",
       "    .dataframe tbody tr th:only-of-type {\n",
       "        vertical-align: middle;\n",
       "    }\n",
       "\n",
       "    .dataframe tbody tr th {\n",
       "        vertical-align: top;\n",
       "    }\n",
       "\n",
       "    .dataframe thead th {\n",
       "        text-align: right;\n",
       "    }\n",
       "</style>\n",
       "<table border=\"1\" class=\"dataframe\">\n",
       "  <thead>\n",
       "    <tr style=\"text-align: right;\">\n",
       "      <th></th>\n",
       "      <th>CustomerID</th>\n",
       "      <th>Customer_Age_within_store</th>\n",
       "      <th>Recency</th>\n",
       "      <th>Monetary</th>\n",
       "      <th>Frequency</th>\n",
       "      <th>No. of cancelled orders</th>\n",
       "      <th>Actual_Frequency</th>\n",
       "      <th>AOV</th>\n",
       "      <th>UniqueProducts</th>\n",
       "      <th>Average_Purchase_Time</th>\n",
       "      <th>UK_Flag</th>\n",
       "      <th>Cluster</th>\n",
       "      <th>Recency_Score</th>\n",
       "      <th>Frequency_Score</th>\n",
       "      <th>Monetary_Score</th>\n",
       "      <th>RFM_SCORE</th>\n",
       "      <th>segment</th>\n",
       "    </tr>\n",
       "  </thead>\n",
       "  <tbody>\n",
       "    <tr>\n",
       "      <th>0</th>\n",
       "      <td>17850.0</td>\n",
       "      <td>373</td>\n",
       "      <td>301</td>\n",
       "      <td>5288.63</td>\n",
       "      <td>312</td>\n",
       "      <td>15</td>\n",
       "      <td>297</td>\n",
       "      <td>17.806835</td>\n",
       "      <td>24</td>\n",
       "      <td>1.255892</td>\n",
       "      <td>1</td>\n",
       "      <td>0</td>\n",
       "      <td>1</td>\n",
       "      <td>5</td>\n",
       "      <td>5</td>\n",
       "      <td>155</td>\n",
       "      <td>cant_loose5</td>\n",
       "    </tr>\n",
       "    <tr>\n",
       "      <th>9</th>\n",
       "      <td>13047.0</td>\n",
       "      <td>373</td>\n",
       "      <td>31</td>\n",
       "      <td>3079.10</td>\n",
       "      <td>196</td>\n",
       "      <td>24</td>\n",
       "      <td>172</td>\n",
       "      <td>17.901744</td>\n",
       "      <td>106</td>\n",
       "      <td>2.168605</td>\n",
       "      <td>1</td>\n",
       "      <td>3</td>\n",
       "      <td>4</td>\n",
       "      <td>5</td>\n",
       "      <td>5</td>\n",
       "      <td>455</td>\n",
       "      <td>loyal_customers5</td>\n",
       "    </tr>\n",
       "    <tr>\n",
       "      <th>26</th>\n",
       "      <td>12583.0</td>\n",
       "      <td>373</td>\n",
       "      <td>2</td>\n",
       "      <td>7187.34</td>\n",
       "      <td>251</td>\n",
       "      <td>4</td>\n",
       "      <td>247</td>\n",
       "      <td>29.098543</td>\n",
       "      <td>115</td>\n",
       "      <td>1.510121</td>\n",
       "      <td>0</td>\n",
       "      <td>0</td>\n",
       "      <td>5</td>\n",
       "      <td>5</td>\n",
       "      <td>5</td>\n",
       "      <td>555</td>\n",
       "      <td>champions5</td>\n",
       "    </tr>\n",
       "    <tr>\n",
       "      <th>46</th>\n",
       "      <td>13748.0</td>\n",
       "      <td>373</td>\n",
       "      <td>95</td>\n",
       "      <td>948.25</td>\n",
       "      <td>28</td>\n",
       "      <td>0</td>\n",
       "      <td>28</td>\n",
       "      <td>33.866071</td>\n",
       "      <td>24</td>\n",
       "      <td>13.321429</td>\n",
       "      <td>1</td>\n",
       "      <td>3</td>\n",
       "      <td>2</td>\n",
       "      <td>2</td>\n",
       "      <td>4</td>\n",
       "      <td>224</td>\n",
       "      <td>hibernating4</td>\n",
       "    </tr>\n",
       "    <tr>\n",
       "      <th>65</th>\n",
       "      <td>15100.0</td>\n",
       "      <td>373</td>\n",
       "      <td>329</td>\n",
       "      <td>635.10</td>\n",
       "      <td>6</td>\n",
       "      <td>3</td>\n",
       "      <td>3</td>\n",
       "      <td>211.700000</td>\n",
       "      <td>1</td>\n",
       "      <td>124.333333</td>\n",
       "      <td>1</td>\n",
       "      <td>3</td>\n",
       "      <td>1</td>\n",
       "      <td>1</td>\n",
       "      <td>3</td>\n",
       "      <td>113</td>\n",
       "      <td>hibernating3</td>\n",
       "    </tr>\n",
       "  </tbody>\n",
       "</table>\n",
       "</div>"
      ],
      "text/plain": [
       "    CustomerID  Customer_Age_within_store  Recency  Monetary  Frequency  \\\n",
       "0      17850.0                        373      301   5288.63        312   \n",
       "9      13047.0                        373       31   3079.10        196   \n",
       "26     12583.0                        373        2   7187.34        251   \n",
       "46     13748.0                        373       95    948.25         28   \n",
       "65     15100.0                        373      329    635.10          6   \n",
       "\n",
       "    No. of cancelled orders  Actual_Frequency         AOV  UniqueProducts  \\\n",
       "0                        15               297   17.806835              24   \n",
       "9                        24               172   17.901744             106   \n",
       "26                        4               247   29.098543             115   \n",
       "46                        0                28   33.866071              24   \n",
       "65                        3                 3  211.700000               1   \n",
       "\n",
       "    Average_Purchase_Time  UK_Flag  Cluster Recency_Score Frequency_Score  \\\n",
       "0                1.255892        1        0             1               5   \n",
       "9                2.168605        1        3             4               5   \n",
       "26               1.510121        0        0             5               5   \n",
       "46              13.321429        1        3             2               2   \n",
       "65             124.333333        1        3             1               1   \n",
       "\n",
       "   Monetary_Score RFM_SCORE           segment  \n",
       "0               5       155       cant_loose5  \n",
       "9               5       455  loyal_customers5  \n",
       "26              5       555        champions5  \n",
       "46              4       224      hibernating4  \n",
       "65              3       113      hibernating3  "
      ]
     },
     "execution_count": 112,
     "metadata": {},
     "output_type": "execute_result"
    }
   ],
   "source": [
    "seg_map = {r'[1-2][1-2]': 'hibernating',\n",
    "           r'[1-2][3-4]': 'at_Risk',\n",
    "           r'[1-2]5': 'cant_loose',\n",
    "           r'3[1-2]': 'about_to_sleep',\n",
    "           r'33': 'need_attention',\n",
    "           r'[3-4][4-5]': 'loyal_customers',\n",
    "           r'41': 'promising',\n",
    "           r'51': 'new_customers',\n",
    "           r'[4-5][2-3]': 'potential_loyalists',\n",
    "           r'5[4-5]': 'champions'}\n",
    "\n",
    "rfm['segment'] = rfm['RFM_SCORE'].replace(seg_map,regex = True)"
   ]
  },
  {
   "cell_type": "code",
   "execution_count": 114,
   "metadata": {},
   "outputs": [],
   "source": [
    "rfm['segment'] = rfm['segment'].str.replace(r'\\d+', '', regex=True)"
   ]
  },
  {
   "cell_type": "code",
   "execution_count": 117,
   "metadata": {},
   "outputs": [
    {
     "data": {
      "text/html": [
       "<div>\n",
       "<style scoped>\n",
       "    .dataframe tbody tr th:only-of-type {\n",
       "        vertical-align: middle;\n",
       "    }\n",
       "\n",
       "    .dataframe tbody tr th {\n",
       "        vertical-align: top;\n",
       "    }\n",
       "\n",
       "    .dataframe thead th {\n",
       "        text-align: right;\n",
       "    }\n",
       "</style>\n",
       "<table border=\"1\" class=\"dataframe\">\n",
       "  <thead>\n",
       "    <tr style=\"text-align: right;\">\n",
       "      <th></th>\n",
       "      <th>CustomerID</th>\n",
       "      <th>Customer_Age_within_store</th>\n",
       "      <th>Recency</th>\n",
       "      <th>Monetary</th>\n",
       "      <th>Frequency</th>\n",
       "      <th>No. of cancelled orders</th>\n",
       "      <th>Actual_Frequency</th>\n",
       "      <th>AOV</th>\n",
       "      <th>UniqueProducts</th>\n",
       "      <th>Average_Purchase_Time</th>\n",
       "      <th>UK_Flag</th>\n",
       "      <th>Cluster</th>\n",
       "      <th>Recency_Score</th>\n",
       "      <th>Frequency_Score</th>\n",
       "      <th>Monetary_Score</th>\n",
       "      <th>RFM_SCORE</th>\n",
       "      <th>segment</th>\n",
       "    </tr>\n",
       "  </thead>\n",
       "  <tbody>\n",
       "    <tr>\n",
       "      <th>8897</th>\n",
       "      <td>14487.0</td>\n",
       "      <td>367</td>\n",
       "      <td>26</td>\n",
       "      <td>1183.58</td>\n",
       "      <td>145</td>\n",
       "      <td>1</td>\n",
       "      <td>144</td>\n",
       "      <td>8.219306</td>\n",
       "      <td>112</td>\n",
       "      <td>2.548611</td>\n",
       "      <td>1</td>\n",
       "      <td>3</td>\n",
       "      <td>4</td>\n",
       "      <td>5</td>\n",
       "      <td>4</td>\n",
       "      <td>454</td>\n",
       "      <td>loyal_customers</td>\n",
       "    </tr>\n",
       "    <tr>\n",
       "      <th>10288</th>\n",
       "      <td>13488.0</td>\n",
       "      <td>366</td>\n",
       "      <td>16</td>\n",
       "      <td>8910.61</td>\n",
       "      <td>427</td>\n",
       "      <td>5</td>\n",
       "      <td>422</td>\n",
       "      <td>21.115190</td>\n",
       "      <td>272</td>\n",
       "      <td>0.867299</td>\n",
       "      <td>1</td>\n",
       "      <td>0</td>\n",
       "      <td>4</td>\n",
       "      <td>5</td>\n",
       "      <td>5</td>\n",
       "      <td>455</td>\n",
       "      <td>loyal_customers</td>\n",
       "    </tr>\n",
       "    <tr>\n",
       "      <th>212884</th>\n",
       "      <td>16053.0</td>\n",
       "      <td>121</td>\n",
       "      <td>32</td>\n",
       "      <td>1511.95</td>\n",
       "      <td>84</td>\n",
       "      <td>0</td>\n",
       "      <td>84</td>\n",
       "      <td>17.999405</td>\n",
       "      <td>81</td>\n",
       "      <td>1.440476</td>\n",
       "      <td>1</td>\n",
       "      <td>3</td>\n",
       "      <td>3</td>\n",
       "      <td>4</td>\n",
       "      <td>4</td>\n",
       "      <td>344</td>\n",
       "      <td>loyal_customers</td>\n",
       "    </tr>\n",
       "  </tbody>\n",
       "</table>\n",
       "</div>"
      ],
      "text/plain": [
       "        CustomerID  Customer_Age_within_store  Recency  Monetary  Frequency  \\\n",
       "8897       14487.0                        367       26   1183.58        145   \n",
       "10288      13488.0                        366       16   8910.61        427   \n",
       "212884     16053.0                        121       32   1511.95         84   \n",
       "\n",
       "        No. of cancelled orders  Actual_Frequency        AOV  UniqueProducts  \\\n",
       "8897                          1               144   8.219306             112   \n",
       "10288                         5               422  21.115190             272   \n",
       "212884                        0                84  17.999405              81   \n",
       "\n",
       "        Average_Purchase_Time  UK_Flag  Cluster Recency_Score Frequency_Score  \\\n",
       "8897                 2.548611        1        3             4               5   \n",
       "10288                0.867299        1        0             4               5   \n",
       "212884               1.440476        1        3             3               4   \n",
       "\n",
       "       Monetary_Score RFM_SCORE          segment  \n",
       "8897                4       454  loyal_customers  \n",
       "10288               5       455  loyal_customers  \n",
       "212884              4       344  loyal_customers  "
      ]
     },
     "execution_count": 117,
     "metadata": {},
     "output_type": "execute_result"
    }
   ],
   "source": [
    "rfm.sample(3)\n"
   ]
  },
  {
   "cell_type": "code",
   "execution_count": 121,
   "metadata": {},
   "outputs": [
    {
     "data": {
      "text/html": [
       "<div>\n",
       "<style scoped>\n",
       "    .dataframe tbody tr th:only-of-type {\n",
       "        vertical-align: middle;\n",
       "    }\n",
       "\n",
       "    .dataframe tbody tr th {\n",
       "        vertical-align: top;\n",
       "    }\n",
       "\n",
       "    .dataframe thead tr th {\n",
       "        text-align: left;\n",
       "    }\n",
       "\n",
       "    .dataframe thead tr:last-of-type th {\n",
       "        text-align: right;\n",
       "    }\n",
       "</style>\n",
       "<table border=\"1\" class=\"dataframe\">\n",
       "  <thead>\n",
       "    <tr>\n",
       "      <th></th>\n",
       "      <th colspan=\"4\" halign=\"left\">Recency</th>\n",
       "      <th colspan=\"4\" halign=\"left\">Monetary</th>\n",
       "      <th colspan=\"4\" halign=\"left\">Frequency</th>\n",
       "    </tr>\n",
       "    <tr>\n",
       "      <th></th>\n",
       "      <th>mean</th>\n",
       "      <th>min</th>\n",
       "      <th>std</th>\n",
       "      <th>max</th>\n",
       "      <th>mean</th>\n",
       "      <th>min</th>\n",
       "      <th>std</th>\n",
       "      <th>max</th>\n",
       "      <th>mean</th>\n",
       "      <th>min</th>\n",
       "      <th>std</th>\n",
       "      <th>max</th>\n",
       "    </tr>\n",
       "    <tr>\n",
       "      <th>segment</th>\n",
       "      <th></th>\n",
       "      <th></th>\n",
       "      <th></th>\n",
       "      <th></th>\n",
       "      <th></th>\n",
       "      <th></th>\n",
       "      <th></th>\n",
       "      <th></th>\n",
       "      <th></th>\n",
       "      <th></th>\n",
       "      <th></th>\n",
       "      <th></th>\n",
       "    </tr>\n",
       "  </thead>\n",
       "  <tbody>\n",
       "    <tr>\n",
       "      <th>about_to_sleep</th>\n",
       "      <td>29.735294</td>\n",
       "      <td>0</td>\n",
       "      <td>19.658279</td>\n",
       "      <td>70</td>\n",
       "      <td>283.796544</td>\n",
       "      <td>9.797000e+01</td>\n",
       "      <td>105.302333</td>\n",
       "      <td>463.46</td>\n",
       "      <td>41.661765</td>\n",
       "      <td>29</td>\n",
       "      <td>9.182286</td>\n",
       "      <td>58</td>\n",
       "    </tr>\n",
       "    <tr>\n",
       "      <th>at_Risk</th>\n",
       "      <td>132.923490</td>\n",
       "      <td>0</td>\n",
       "      <td>91.986373</td>\n",
       "      <td>373</td>\n",
       "      <td>935.733034</td>\n",
       "      <td>6.423000e+01</td>\n",
       "      <td>900.500131</td>\n",
       "      <td>11056.93</td>\n",
       "      <td>48.902013</td>\n",
       "      <td>2</td>\n",
       "      <td>26.093912</td>\n",
       "      <td>135</td>\n",
       "    </tr>\n",
       "    <tr>\n",
       "      <th>cant_loose</th>\n",
       "      <td>123.102041</td>\n",
       "      <td>2</td>\n",
       "      <td>77.821828</td>\n",
       "      <td>337</td>\n",
       "      <td>2658.603582</td>\n",
       "      <td>4.115300e+02</td>\n",
       "      <td>2038.409822</td>\n",
       "      <td>12393.70</td>\n",
       "      <td>157.806122</td>\n",
       "      <td>1</td>\n",
       "      <td>90.058247</td>\n",
       "      <td>548</td>\n",
       "    </tr>\n",
       "    <tr>\n",
       "      <th>champions</th>\n",
       "      <td>3.968170</td>\n",
       "      <td>0</td>\n",
       "      <td>3.273694</td>\n",
       "      <td>10</td>\n",
       "      <td>9637.844562</td>\n",
       "      <td>9.336200e+02</td>\n",
       "      <td>25060.393356</td>\n",
       "      <td>279489.02</td>\n",
       "      <td>408.161804</td>\n",
       "      <td>121</td>\n",
       "      <td>664.728926</td>\n",
       "      <td>7983</td>\n",
       "    </tr>\n",
       "    <tr>\n",
       "      <th>hibernating</th>\n",
       "      <td>154.776718</td>\n",
       "      <td>0</td>\n",
       "      <td>112.119266</td>\n",
       "      <td>373</td>\n",
       "      <td>325.686795</td>\n",
       "      <td>-4.287630e+03</td>\n",
       "      <td>707.405036</td>\n",
       "      <td>21535.90</td>\n",
       "      <td>13.645038</td>\n",
       "      <td>1</td>\n",
       "      <td>8.131084</td>\n",
       "      <td>40</td>\n",
       "    </tr>\n",
       "    <tr>\n",
       "      <th>loyal_customers</th>\n",
       "      <td>25.627928</td>\n",
       "      <td>0</td>\n",
       "      <td>17.334749</td>\n",
       "      <td>70</td>\n",
       "      <td>2598.141279</td>\n",
       "      <td>3.552714e-15</td>\n",
       "      <td>5085.172073</td>\n",
       "      <td>123725.45</td>\n",
       "      <td>141.002703</td>\n",
       "      <td>29</td>\n",
       "      <td>118.967829</td>\n",
       "      <td>1212</td>\n",
       "    </tr>\n",
       "    <tr>\n",
       "      <th>need_attention</th>\n",
       "      <td>33.496454</td>\n",
       "      <td>0</td>\n",
       "      <td>20.924750</td>\n",
       "      <td>70</td>\n",
       "      <td>863.013656</td>\n",
       "      <td>4.769600e+02</td>\n",
       "      <td>796.717496</td>\n",
       "      <td>11581.80</td>\n",
       "      <td>41.946809</td>\n",
       "      <td>29</td>\n",
       "      <td>8.561314</td>\n",
       "      <td>76</td>\n",
       "    </tr>\n",
       "    <tr>\n",
       "      <th>potential_loyalists</th>\n",
       "      <td>4.260000</td>\n",
       "      <td>0</td>\n",
       "      <td>2.827056</td>\n",
       "      <td>10</td>\n",
       "      <td>613.027400</td>\n",
       "      <td>2.497200e+02</td>\n",
       "      <td>188.324819</td>\n",
       "      <td>902.22</td>\n",
       "      <td>109.060000</td>\n",
       "      <td>59</td>\n",
       "      <td>41.678757</td>\n",
       "      <td>203</td>\n",
       "    </tr>\n",
       "    <tr>\n",
       "      <th>promising</th>\n",
       "      <td>5.500000</td>\n",
       "      <td>2</td>\n",
       "      <td>4.949747</td>\n",
       "      <td>9</td>\n",
       "      <td>200.070000</td>\n",
       "      <td>1.816700e+02</td>\n",
       "      <td>26.021530</td>\n",
       "      <td>218.47</td>\n",
       "      <td>72.000000</td>\n",
       "      <td>70</td>\n",
       "      <td>2.828427</td>\n",
       "      <td>74</td>\n",
       "    </tr>\n",
       "  </tbody>\n",
       "</table>\n",
       "</div>"
      ],
      "text/plain": [
       "                        Recency                          Monetary  \\\n",
       "                           mean min         std  max         mean   \n",
       "segment                                                             \n",
       "about_to_sleep        29.735294   0   19.658279   70   283.796544   \n",
       "at_Risk              132.923490   0   91.986373  373   935.733034   \n",
       "cant_loose           123.102041   2   77.821828  337  2658.603582   \n",
       "champions              3.968170   0    3.273694   10  9637.844562   \n",
       "hibernating          154.776718   0  112.119266  373   325.686795   \n",
       "loyal_customers       25.627928   0   17.334749   70  2598.141279   \n",
       "need_attention        33.496454   0   20.924750   70   863.013656   \n",
       "potential_loyalists    4.260000   0    2.827056   10   613.027400   \n",
       "promising              5.500000   2    4.949747    9   200.070000   \n",
       "\n",
       "                                                             Frequency       \\\n",
       "                              min           std        max        mean  min   \n",
       "segment                                                                       \n",
       "about_to_sleep       9.797000e+01    105.302333     463.46   41.661765   29   \n",
       "at_Risk              6.423000e+01    900.500131   11056.93   48.902013    2   \n",
       "cant_loose           4.115300e+02   2038.409822   12393.70  157.806122    1   \n",
       "champions            9.336200e+02  25060.393356  279489.02  408.161804  121   \n",
       "hibernating         -4.287630e+03    707.405036   21535.90   13.645038    1   \n",
       "loyal_customers      3.552714e-15   5085.172073  123725.45  141.002703   29   \n",
       "need_attention       4.769600e+02    796.717496   11581.80   41.946809   29   \n",
       "potential_loyalists  2.497200e+02    188.324819     902.22  109.060000   59   \n",
       "promising            1.816700e+02     26.021530     218.47   72.000000   70   \n",
       "\n",
       "                                       \n",
       "                            std   max  \n",
       "segment                                \n",
       "about_to_sleep         9.182286    58  \n",
       "at_Risk               26.093912   135  \n",
       "cant_loose            90.058247   548  \n",
       "champions            664.728926  7983  \n",
       "hibernating            8.131084    40  \n",
       "loyal_customers      118.967829  1212  \n",
       "need_attention         8.561314    76  \n",
       "potential_loyalists   41.678757   203  \n",
       "promising              2.828427    74  "
      ]
     },
     "execution_count": 121,
     "metadata": {},
     "output_type": "execute_result"
    }
   ],
   "source": [
    "rfm[['Recency','Monetary','Frequency','segment']]\\\n",
    ".groupby('segment')\\\n",
    ".agg({'mean','std','max','min'})\n"
   ]
  },
  {
   "cell_type": "code",
   "execution_count": 123,
   "metadata": {},
   "outputs": [
    {
     "data": {
      "image/png": "[encoded data removed]",
      "text/plain": [
       "<Figure size 1296x576 with 1 Axes>"
      ]
     },
     "metadata": {
      "needs_background": "light"
     },
     "output_type": "display_data"
    }
   ],
   "source": [
    "plt.figure(figsize = (18, 8))\n",
    "ax = sns.countplot(data = rfm,\n",
    "                   x = 'segment')\n",
    "total = len(rfm.segment)\n",
    "for patch in ax.patches:\n",
    "    percentage = '{:.1f}%'.format(100 * patch.get_height()/total)\n",
    "    x = patch.get_x() + patch.get_width() / 2 - 0.17\n",
    "    y = patch.get_y() + patch.get_height() * 1.005\n",
    "    ax.annotate(percentage, (x, y), size = 14)\n",
    "plt.title('Number of Customers by Segments', size = 16)\n",
    "plt.xlabel('Segment', size = 14)\n",
    "plt.ylabel('Count', size = 14)\n",
    "plt.xticks(size = 10)\n",
    "plt.yticks(size = 10)\n",
    "plt.show()\n"
   ]
  },
  {
   "cell_type": "code",
   "execution_count": 126,
   "metadata": {},
   "outputs": [
    {
     "data": {
      "image/png": "[encoded data removed]",
      "text/plain": [
       "<Figure size 1296x576 with 1 Axes>"
      ]
     },
     "metadata": {
      "needs_background": "light"
     },
     "output_type": "display_data"
    }
   ],
   "source": [
    "plt.figure(figsize=(18, 8))\n",
    "sns.scatterplot(\n",
    "    data=rfm, x=\"Recency\", y=\"Frequency\", hue=\"segment\", s=60\n",
    ")\n",
    "plt.title(\"Recency & Frequency by Segments\", size=16)\n",
    "plt.xlabel(\"Recency\", size=12)\n",
    "plt.ylabel(\"Frequency\", size=12)\n",
    "plt.xticks(size=10)\n",
    "plt.yticks(size=10)\n",
    "plt.legend(loc=\"best\", fontsize=12, title=\"Segments\", title_fontsize=14)\n",
    "plt.show()"
   ]
  },
  {
   "cell_type": "code",
   "execution_count": 128,
   "metadata": {},
   "outputs": [
    {
     "name": "stderr",
     "output_type": "stream",
     "text": [
      "<ipython-input-128-5cc23b53dd58>:8: UserWarning: FixedFormatter should only be used together with FixedLocator\n",
      "  axes[idx].set_xticklabels(axes[idx].get_xticklabels(), rotation=60)\n",
      "<ipython-input-128-5cc23b53dd58>:8: UserWarning: FixedFormatter should only be used together with FixedLocator\n",
      "  axes[idx].set_xticklabels(axes[idx].get_xticklabels(), rotation=60)\n",
      "<ipython-input-128-5cc23b53dd58>:8: UserWarning: FixedFormatter should only be used together with FixedLocator\n",
      "  axes[idx].set_xticklabels(axes[idx].get_xticklabels(), rotation=60)\n"
     ]
    },
    {
     "data": {
      "image/png": "[encoded data removed]",
      "text/plain": [
       "<Figure size 1296x576 with 3 Axes>"
      ]
     },
     "metadata": {
      "needs_background": "light"
     },
     "output_type": "display_data"
    }
   ],
   "source": [
    "fig, axes = plt.subplots(1, 3, figsize=(18, 8))\n",
    "fig.suptitle(\"RFM Segment Analysis\", size=14)\n",
    "feature_list = [\"Recency\", \"Monetary\", \"Frequency\"]\n",
    "for idx, col in enumerate(feature_list):\n",
    "    sns.boxplot(\n",
    "        ax=axes[idx], data=rfm, x=\"segment\", y=feature_list[idx]\n",
    "    )\n",
    "    axes[idx].set_xticklabels(axes[idx].get_xticklabels(), rotation=60)\n",
    "    if idx == 1:\n",
    "        axes[idx].set_ylim([0, 400])\n",
    "    if idx == 2:\n",
    "        axes[idx].set_ylim([0, 30])\n",
    "plt.tight_layout()\n",
    "plt.show()"
   ]
  },
  {
   "cell_type": "code",
   "execution_count": null,
   "metadata": {},
   "outputs": [],
   "source": []
  }
 ],
 "metadata": {
  "kernelspec": {
   "display_name": "Python 3",
   "language": "python",
   "name": "python3"
  },
  "language_info": {
   "codemirror_mode": {
    "name": "ipython",
    "version": 3
   },
   "file_extension": ".py",
   "mimetype": "text/x-python",
   "name": "python",
   "nbconvert_exporter": "python",
   "pygments_lexer": "ipython3",
   "version": "3.8.3"
  }
 },
 "nbformat": 4,
 "nbformat_minor": 4
}
